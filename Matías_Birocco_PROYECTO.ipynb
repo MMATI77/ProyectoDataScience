{
 "cells": [
  {
   "cell_type": "markdown",
   "id": "freelance-bumper",
   "metadata": {
    "id": "freelance-bumper"
   },
   "source": [
    "## Definición del problema\n",
    "\n",
    "La pregunta es:\n",
    "\n",
    "**¿Cuál será la fuerza de combate máxima en el nivel 40 un Pokemon dadas determinadas caracerísticas?**\n",
    "\n",
    "## Búsqueda de datos\n",
    "\n",
    "El dataset que se utilizará es del juego Pokemon Go, donde describe las características de cada Pokemon (resistencia, ataque, defensa, salud, peso, altura, etc.) y, de acuerdo a las mismas, se puede predecir la fuerza de combate máxima que alcanzará en el nivel 40. Contiene datos sobre Pokemon de las generaciones 1 a 5.\n",
    "\n",
    "Esta basado en el dataset descargable en [Kaggle](https://www.kaggle.com/datasets/netzuel/pokmon-go-dataset-15-generations)  "
   ]
  },
  {
   "cell_type": "markdown",
   "id": "wooden-student",
   "metadata": {
    "id": "wooden-student"
   },
   "source": [
    "## Hipótesis\n",
    "\n",
    "En primer lugar es necesario elaborar una **hipótesis** de qué variables considero que pueden ser relevantes para predecir la fuerza de combate máxima que va a alcanzar un Pokemon en el nivel 40.\n",
    "\n"
   ]
  },
  {
   "cell_type": "markdown",
   "id": "mounted-environment",
   "metadata": {
    "id": "mounted-environment"
   },
   "source": [
    "\n",
    "\n",
    "## Exploración del dataset\n",
    "\n",
    "Realizo la primer exploración y limpieza del dataset. \n",
    "La variable a predecir es *fuerza_combate*.  \n",
    "\n",
    "\n",
    "Pasos: \n",
    "- Ver los primeros tres registros\n",
    "\n",
    "- Ver el tamaño del dataset\n",
    "\n",
    "- Ver los tipos de datos de cada columna\n",
    "\n",
    "- Renombrar las columnas *Weight* (peso) y *Height* (altura) para que esten en español\n",
    "\n",
    "- Usar el métdoo *describe()* para ver las variables numéricas\n",
    "\n",
    "- Usar el método *corr()* para ver la correlación entre las variables\n",
    "\n",
    "- De la variable a predecir **fuerza_combate** ver los valores máximo, mínimo y promedio y hacer un gráfico *displot* para ver la distribución\n",
    "\n",
    "- De la variable **resistencia** ver los valores máximo, mínimo y promedio y hacer un gráfico *displot* para ver la distribución\n",
    "\n",
    "- De la variable **tipo_primario** ver los valores que toma y cuántos registros de cada uno y hacer un gráfico *countplot* para visualizarlo\n",
    "\n",
    "- De la variable **legendario** ver los valores que toma y cuántos registros de cada uno y hacer un gráfico *countplot* para visualizarlo\n",
    "\n",
    "- Luego de realizar la exploración, pensar que variables no serían necesarias en un modelo y eliminarlas\n",
    "   "
   ]
  },
  {
   "cell_type": "code",
   "execution_count": 1,
   "id": "reflected-atlas",
   "metadata": {
    "id": "reflected-atlas"
   },
   "outputs": [],
   "source": [
    "#importamos las librerias que utilizaremos\n",
    "\n",
    "import pandas as pd\n",
    "import matplotlib.pyplot as plt  \n",
    "import seaborn as sns"
   ]
  },
  {
   "cell_type": "code",
   "execution_count": 2,
   "id": "tired-acquisition",
   "metadata": {
    "colab": {
     "base_uri": "https://localhost:8080/"
    },
    "id": "tired-acquisition",
    "outputId": "2c49a349-a4da-4031-e8b4-d90f34bee70b"
   },
   "outputs": [
    {
     "ename": "ModuleNotFoundError",
     "evalue": "No module named 'google'",
     "output_type": "error",
     "traceback": [
      "\u001b[1;31m---------------------------------------------------------------------------\u001b[0m",
      "\u001b[1;31mModuleNotFoundError\u001b[0m                       Traceback (most recent call last)",
      "Input \u001b[1;32mIn [2]\u001b[0m, in \u001b[0;36m<cell line: 3>\u001b[1;34m()\u001b[0m\n\u001b[0;32m      1\u001b[0m \u001b[38;5;66;03m# Desde Drive\u001b[39;00m\n\u001b[1;32m----> 3\u001b[0m \u001b[38;5;28;01mfrom\u001b[39;00m \u001b[38;5;21;01mgoogle\u001b[39;00m\u001b[38;5;21;01m.\u001b[39;00m\u001b[38;5;21;01mcolab\u001b[39;00m \u001b[38;5;28;01mimport\u001b[39;00m drive\n\u001b[0;32m      4\u001b[0m drive\u001b[38;5;241m.\u001b[39mmount(\u001b[38;5;124m'\u001b[39m\u001b[38;5;124m/content/drive\u001b[39m\u001b[38;5;124m'\u001b[39m)\n",
      "\u001b[1;31mModuleNotFoundError\u001b[0m: No module named 'google'"
     ]
    }
   ],
   "source": [
    "# Desde Drive\n",
    "\n",
    "from google.colab import drive\n",
    "drive.mount('/content/drive')"
   ]
  },
  {
   "cell_type": "code",
   "execution_count": null,
   "id": "A8-RD_dEXL_2",
   "metadata": {
    "colab": {
     "base_uri": "https://localhost:8080/"
    },
    "id": "A8-RD_dEXL_2",
    "outputId": "cc4cbec7-d0f1-4b59-dd4b-6072417b2f02"
   },
   "outputs": [
    {
     "name": "stdout",
     "output_type": "stream",
     "text": [
      "Drive already mounted at /content/drive; to attempt to forcibly remount, call drive.mount(\"/content/drive\", force_remount=True).\n"
     ]
    }
   ],
   "source": [
    "from google.colab import drive\n",
    "drive.mount('/content/drive')"
   ]
  },
  {
   "cell_type": "code",
   "execution_count": null,
   "id": "upset-store",
   "metadata": {
    "id": "upset-store"
   },
   "outputs": [],
   "source": [
    "data = pd.read_csv(\"/content/drive/MyDrive/Clase virtual/Módulo 2/Encuentro 1/pokemon.csv\")"
   ]
  },
  {
   "cell_type": "code",
   "execution_count": null,
   "id": "defensive-identity",
   "metadata": {
    "colab": {
     "base_uri": "https://localhost:8080/",
     "height": 143
    },
    "id": "defensive-identity",
    "outputId": "80636b30-1fcd-4a4e-b6ab-f88246d08ad9"
   },
   "outputs": [
    {
     "data": {
      "text/html": [
       "\n",
       "  <div id=\"df-d8b0bc8d-b6f5-4a32-9e33-bf74b50a512b\">\n",
       "    <div class=\"colab-df-container\">\n",
       "      <div>\n",
       "<style scoped>\n",
       "    .dataframe tbody tr th:only-of-type {\n",
       "        vertical-align: middle;\n",
       "    }\n",
       "\n",
       "    .dataframe tbody tr th {\n",
       "        vertical-align: top;\n",
       "    }\n",
       "\n",
       "    .dataframe thead th {\n",
       "        text-align: right;\n",
       "    }\n",
       "</style>\n",
       "<table border=\"1\" class=\"dataframe\">\n",
       "  <thead>\n",
       "    <tr style=\"text-align: right;\">\n",
       "      <th></th>\n",
       "      <th>nombre</th>\n",
       "      <th>indice_guia</th>\n",
       "      <th>resistencia</th>\n",
       "      <th>ataque</th>\n",
       "      <th>defensa</th>\n",
       "      <th>tipo_primario</th>\n",
       "      <th>tipo_secundario</th>\n",
       "      <th>max_salud</th>\n",
       "      <th>tasa_captura</th>\n",
       "      <th>tasa_escape</th>\n",
       "      <th>Weight</th>\n",
       "      <th>Height</th>\n",
       "      <th>Legendario</th>\n",
       "      <th>generacion</th>\n",
       "      <th>fuerza_combate</th>\n",
       "    </tr>\n",
       "  </thead>\n",
       "  <tbody>\n",
       "    <tr>\n",
       "      <th>0</th>\n",
       "      <td>Bulbasaur</td>\n",
       "      <td>1</td>\n",
       "      <td>128.0</td>\n",
       "      <td>118.0</td>\n",
       "      <td>111.0</td>\n",
       "      <td>Grass</td>\n",
       "      <td>Poison</td>\n",
       "      <td>113.0</td>\n",
       "      <td>0.20</td>\n",
       "      <td>0.10</td>\n",
       "      <td>6.9</td>\n",
       "      <td>0.7</td>\n",
       "      <td>No</td>\n",
       "      <td>1</td>\n",
       "      <td>1115</td>\n",
       "    </tr>\n",
       "    <tr>\n",
       "      <th>1</th>\n",
       "      <td>Ivysaur</td>\n",
       "      <td>2</td>\n",
       "      <td>155.0</td>\n",
       "      <td>151.0</td>\n",
       "      <td>143.0</td>\n",
       "      <td>Grass</td>\n",
       "      <td>Poison</td>\n",
       "      <td>134.0</td>\n",
       "      <td>0.10</td>\n",
       "      <td>0.07</td>\n",
       "      <td>13.0</td>\n",
       "      <td>1.0</td>\n",
       "      <td>No</td>\n",
       "      <td>1</td>\n",
       "      <td>1699</td>\n",
       "    </tr>\n",
       "    <tr>\n",
       "      <th>2</th>\n",
       "      <td>Venusaur</td>\n",
       "      <td>3</td>\n",
       "      <td>190.0</td>\n",
       "      <td>198.0</td>\n",
       "      <td>189.0</td>\n",
       "      <td>Grass</td>\n",
       "      <td>Poison</td>\n",
       "      <td>162.0</td>\n",
       "      <td>0.05</td>\n",
       "      <td>0.05</td>\n",
       "      <td>100.0</td>\n",
       "      <td>2.0</td>\n",
       "      <td>No</td>\n",
       "      <td>1</td>\n",
       "      <td>2720</td>\n",
       "    </tr>\n",
       "  </tbody>\n",
       "</table>\n",
       "</div>\n",
       "      <button class=\"colab-df-convert\" onclick=\"convertToInteractive('df-d8b0bc8d-b6f5-4a32-9e33-bf74b50a512b')\"\n",
       "              title=\"Convert this dataframe to an interactive table.\"\n",
       "              style=\"display:none;\">\n",
       "        \n",
       "  <svg xmlns=\"http://www.w3.org/2000/svg\" height=\"24px\"viewBox=\"0 0 24 24\"\n",
       "       width=\"24px\">\n",
       "    <path d=\"M0 0h24v24H0V0z\" fill=\"none\"/>\n",
       "    <path d=\"M18.56 5.44l.94 2.06.94-2.06 2.06-.94-2.06-.94-.94-2.06-.94 2.06-2.06.94zm-11 1L8.5 8.5l.94-2.06 2.06-.94-2.06-.94L8.5 2.5l-.94 2.06-2.06.94zm10 10l.94 2.06.94-2.06 2.06-.94-2.06-.94-.94-2.06-.94 2.06-2.06.94z\"/><path d=\"M17.41 7.96l-1.37-1.37c-.4-.4-.92-.59-1.43-.59-.52 0-1.04.2-1.43.59L10.3 9.45l-7.72 7.72c-.78.78-.78 2.05 0 2.83L4 21.41c.39.39.9.59 1.41.59.51 0 1.02-.2 1.41-.59l7.78-7.78 2.81-2.81c.8-.78.8-2.07 0-2.86zM5.41 20L4 18.59l7.72-7.72 1.47 1.35L5.41 20z\"/>\n",
       "  </svg>\n",
       "      </button>\n",
       "      \n",
       "  <style>\n",
       "    .colab-df-container {\n",
       "      display:flex;\n",
       "      flex-wrap:wrap;\n",
       "      gap: 12px;\n",
       "    }\n",
       "\n",
       "    .colab-df-convert {\n",
       "      background-color: #E8F0FE;\n",
       "      border: none;\n",
       "      border-radius: 50%;\n",
       "      cursor: pointer;\n",
       "      display: none;\n",
       "      fill: #1967D2;\n",
       "      height: 32px;\n",
       "      padding: 0 0 0 0;\n",
       "      width: 32px;\n",
       "    }\n",
       "\n",
       "    .colab-df-convert:hover {\n",
       "      background-color: #E2EBFA;\n",
       "      box-shadow: 0px 1px 2px rgba(60, 64, 67, 0.3), 0px 1px 3px 1px rgba(60, 64, 67, 0.15);\n",
       "      fill: #174EA6;\n",
       "    }\n",
       "\n",
       "    [theme=dark] .colab-df-convert {\n",
       "      background-color: #3B4455;\n",
       "      fill: #D2E3FC;\n",
       "    }\n",
       "\n",
       "    [theme=dark] .colab-df-convert:hover {\n",
       "      background-color: #434B5C;\n",
       "      box-shadow: 0px 1px 3px 1px rgba(0, 0, 0, 0.15);\n",
       "      filter: drop-shadow(0px 1px 2px rgba(0, 0, 0, 0.3));\n",
       "      fill: #FFFFFF;\n",
       "    }\n",
       "  </style>\n",
       "\n",
       "      <script>\n",
       "        const buttonEl =\n",
       "          document.querySelector('#df-d8b0bc8d-b6f5-4a32-9e33-bf74b50a512b button.colab-df-convert');\n",
       "        buttonEl.style.display =\n",
       "          google.colab.kernel.accessAllowed ? 'block' : 'none';\n",
       "\n",
       "        async function convertToInteractive(key) {\n",
       "          const element = document.querySelector('#df-d8b0bc8d-b6f5-4a32-9e33-bf74b50a512b');\n",
       "          const dataTable =\n",
       "            await google.colab.kernel.invokeFunction('convertToInteractive',\n",
       "                                                     [key], {});\n",
       "          if (!dataTable) return;\n",
       "\n",
       "          const docLinkHtml = 'Like what you see? Visit the ' +\n",
       "            '<a target=\"_blank\" href=https://colab.research.google.com/notebooks/data_table.ipynb>data table notebook</a>'\n",
       "            + ' to learn more about interactive tables.';\n",
       "          element.innerHTML = '';\n",
       "          dataTable['output_type'] = 'display_data';\n",
       "          await google.colab.output.renderOutput(dataTable, element);\n",
       "          const docLink = document.createElement('div');\n",
       "          docLink.innerHTML = docLinkHtml;\n",
       "          element.appendChild(docLink);\n",
       "        }\n",
       "      </script>\n",
       "    </div>\n",
       "  </div>\n",
       "  "
      ],
      "text/plain": [
       "      nombre  indice_guia  resistencia  ataque  defensa tipo_primario  \\\n",
       "0  Bulbasaur            1        128.0   118.0    111.0         Grass   \n",
       "1    Ivysaur            2        155.0   151.0    143.0         Grass   \n",
       "2   Venusaur            3        190.0   198.0    189.0         Grass   \n",
       "\n",
       "  tipo_secundario  max_salud  tasa_captura  tasa_escape  Weight  Height  \\\n",
       "0          Poison      113.0          0.20         0.10     6.9     0.7   \n",
       "1          Poison      134.0          0.10         0.07    13.0     1.0   \n",
       "2          Poison      162.0          0.05         0.05   100.0     2.0   \n",
       "\n",
       "  Legendario  generacion  fuerza_combate  \n",
       "0         No           1            1115  \n",
       "1         No           1            1699  \n",
       "2         No           1            2720  "
      ]
     },
     "execution_count": 31,
     "metadata": {},
     "output_type": "execute_result"
    }
   ],
   "source": [
    "data.head(3)"
   ]
  },
  {
   "cell_type": "code",
   "execution_count": null,
   "id": "infectious-leonard",
   "metadata": {
    "colab": {
     "base_uri": "https://localhost:8080/"
    },
    "id": "infectious-leonard",
    "outputId": "967c93ba-5e26-4c20-a9cd-c226fe655a86"
   },
   "outputs": [
    {
     "data": {
      "text/plain": [
       "(649, 15)"
      ]
     },
     "execution_count": 32,
     "metadata": {},
     "output_type": "execute_result"
    }
   ],
   "source": [
    "data.shape"
   ]
  },
  {
   "cell_type": "code",
   "execution_count": null,
   "id": "banned-guest",
   "metadata": {
    "colab": {
     "base_uri": "https://localhost:8080/"
    },
    "id": "banned-guest",
    "outputId": "df6459b7-6ca9-49ba-f78f-7b1369cd7964"
   },
   "outputs": [
    {
     "data": {
      "text/plain": [
       "nombre              object\n",
       "indice_guia          int64\n",
       "resistencia        float64\n",
       "ataque             float64\n",
       "defensa            float64\n",
       "tipo_primario       object\n",
       "tipo_secundario     object\n",
       "max_salud          float64\n",
       "tasa_captura       float64\n",
       "tasa_escape        float64\n",
       "Weight             float64\n",
       "Height             float64\n",
       "Legendario          object\n",
       "generacion           int64\n",
       "fuerza_combate       int64\n",
       "dtype: object"
      ]
     },
     "execution_count": 33,
     "metadata": {},
     "output_type": "execute_result"
    }
   ],
   "source": [
    "data.dtypes"
   ]
  },
  {
   "cell_type": "code",
   "execution_count": null,
   "id": "LcIyBArIX-bq",
   "metadata": {
    "id": "LcIyBArIX-bq"
   },
   "outputs": [],
   "source": [
    "renombrar = {'Weight': 'peso', 'Height': 'altura' }\n",
    "data.rename(columns=renombrar, inplace=True)"
   ]
  },
  {
   "cell_type": "code",
   "execution_count": null,
   "id": "2EWEVf4R1wIo",
   "metadata": {
    "colab": {
     "base_uri": "https://localhost:8080/",
     "height": 683
    },
    "id": "2EWEVf4R1wIo",
    "outputId": "09d351de-2278-443c-fac5-05d7d47419ba"
   },
   "outputs": [
    {
     "data": {
      "text/plain": [
       "<matplotlib.axes._subplots.AxesSubplot at 0x7f5704b0e410>"
      ]
     },
     "execution_count": 35,
     "metadata": {},
     "output_type": "execute_result"
    },
    {
     "data": {
      "image/png": "[encoded data removed]",
      "text/plain": [
       "<Figure size 720x720 with 2 Axes>"
      ]
     },
     "metadata": {
      "needs_background": "light"
     },
     "output_type": "display_data"
    }
   ],
   "source": [
    "fig,ax = plt.subplots(figsize=(10,10))\n",
    "sns.heatmap(data.corr(),annot = True)"
   ]
  },
  {
   "cell_type": "code",
   "execution_count": null,
   "id": "CQlU0-E_ZCa0",
   "metadata": {
    "colab": {
     "base_uri": "https://localhost:8080/",
     "height": 443
    },
    "id": "CQlU0-E_ZCa0",
    "outputId": "6140c672-b0e6-45fd-de75-427b6c124b40"
   },
   "outputs": [
    {
     "name": "stdout",
     "output_type": "stream",
     "text": [
      "4431\n",
      "274\n",
      "1918.0061633281973\n"
     ]
    },
    {
     "data": {
      "text/plain": [
       "<seaborn.axisgrid.FacetGrid at 0x7f57048b5510>"
      ]
     },
     "execution_count": 36,
     "metadata": {},
     "output_type": "execute_result"
    },
    {
     "data": {
      "image/png": "[encoded data removed]",
      "text/plain": [
       "<Figure size 360x360 with 1 Axes>"
      ]
     },
     "metadata": {
      "needs_background": "light"
     },
     "output_type": "display_data"
    }
   ],
   "source": [
    "print(data['fuerza_combate'].max())\n",
    "print(data['fuerza_combate'].min())\n",
    "print(data['fuerza_combate'].mean())\n",
    "sns.displot(data['fuerza_combate'], kind=\"kde\")"
   ]
  },
  {
   "cell_type": "code",
   "execution_count": null,
   "id": "-2wNoNFUZXLs",
   "metadata": {
    "colab": {
     "base_uri": "https://localhost:8080/",
     "height": 443
    },
    "id": "-2wNoNFUZXLs",
    "outputId": "60c76094-933b-4a9f-b658-9795584a75c4"
   },
   "outputs": [
    {
     "name": "stdout",
     "output_type": "stream",
     "text": [
      "496.0\n",
      "1.0\n",
      "168.7003105590062\n"
     ]
    },
    {
     "data": {
      "text/plain": [
       "<seaborn.axisgrid.FacetGrid at 0x7f5704820d10>"
      ]
     },
     "execution_count": 37,
     "metadata": {},
     "output_type": "execute_result"
    },
    {
     "data": {
      "image/png": "[encoded data removed]",
      "text/plain": [
       "<Figure size 360x360 with 1 Axes>"
      ]
     },
     "metadata": {
      "needs_background": "light"
     },
     "output_type": "display_data"
    }
   ],
   "source": [
    "print(data['resistencia'].max())\n",
    "print(data['resistencia'].min())\n",
    "print(data['resistencia'].mean())\n",
    "sns.displot(data['resistencia'], kind=\"kde\")"
   ]
  },
  {
   "cell_type": "code",
   "execution_count": null,
   "id": "VG-lzmLyaDjs",
   "metadata": {
    "colab": {
     "base_uri": "https://localhost:8080/"
    },
    "id": "VG-lzmLyaDjs",
    "outputId": "2bab68b7-a3b5-418b-d0ac-e107c973e119"
   },
   "outputs": [
    {
     "data": {
      "text/plain": [
       "array(['Grass', 'Fire', 'Water', 'Bug', 'Normal', 'Poison', 'Electric',\n",
       "       'Ground', 'Fairy', 'Fighting', 'Psychic', 'Rock', 'Ghost', 'Ice',\n",
       "       'Dragon', nan, 'Dark', 'Steel', 'Flying'], dtype=object)"
      ]
     },
     "execution_count": 38,
     "metadata": {},
     "output_type": "execute_result"
    }
   ],
   "source": [
    "data['tipo_primario'].unique() #valores que toma"
   ]
  },
  {
   "cell_type": "code",
   "execution_count": null,
   "id": "FLXXuqvZara1",
   "metadata": {
    "colab": {
     "base_uri": "https://localhost:8080/"
    },
    "id": "FLXXuqvZara1",
    "outputId": "6d525c73-343c-4747-9de9-bdbf76709982"
   },
   "outputs": [
    {
     "data": {
      "text/plain": [
       "Water       99\n",
       "Normal      89\n",
       "Grass       61\n",
       "Bug         60\n",
       "Psychic     43\n",
       "Fire        39\n",
       "Electric    33\n",
       "Rock        32\n",
       "Ground      30\n",
       "Poison      25\n",
       "Dark        25\n",
       "Fighting    22\n",
       "Ice         21\n",
       "Dragon      20\n",
       "Ghost       19\n",
       "Steel       18\n",
       "Fairy        7\n",
       "Flying       1\n",
       "Name: tipo_primario, dtype: int64"
      ]
     },
     "execution_count": 39,
     "metadata": {},
     "output_type": "execute_result"
    }
   ],
   "source": [
    "data['tipo_primario'].value_counts() #registros de cada uno"
   ]
  },
  {
   "cell_type": "code",
   "execution_count": null,
   "id": "R6ShHh_ja-JG",
   "metadata": {
    "colab": {
     "base_uri": "https://localhost:8080/",
     "height": 297
    },
    "id": "R6ShHh_ja-JG",
    "outputId": "02e04382-e93b-4512-f2c1-82431da13ec0"
   },
   "outputs": [
    {
     "data": {
      "text/plain": [
       "<matplotlib.axes._subplots.AxesSubplot at 0x7f57047ad3d0>"
      ]
     },
     "execution_count": 40,
     "metadata": {},
     "output_type": "execute_result"
    },
    {
     "data": {
      "image/png": "[encoded data removed]",
      "text/plain": [
       "<Figure size 432x288 with 1 Axes>"
      ]
     },
     "metadata": {
      "needs_background": "light"
     },
     "output_type": "display_data"
    }
   ],
   "source": [
    "sns.countplot(y=data['tipo_primario'])"
   ]
  },
  {
   "cell_type": "code",
   "execution_count": null,
   "id": "xObudJ-Ebi75",
   "metadata": {
    "colab": {
     "base_uri": "https://localhost:8080/"
    },
    "id": "xObudJ-Ebi75",
    "outputId": "7091f006-4d7d-4d9d-ed99-622652e91959"
   },
   "outputs": [
    {
     "data": {
      "text/plain": [
       "No    609\n",
       "Sí     39\n",
       "Name: Legendario, dtype: int64"
      ]
     },
     "execution_count": 41,
     "metadata": {},
     "output_type": "execute_result"
    }
   ],
   "source": [
    "data['Legendario'].value_counts()"
   ]
  },
  {
   "cell_type": "code",
   "execution_count": null,
   "id": "VJXNYs8mb--T",
   "metadata": {
    "colab": {
     "base_uri": "https://localhost:8080/"
    },
    "id": "VJXNYs8mb--T",
    "outputId": "01a05fd4-2c71-46bc-d9f6-0888c8b048b4"
   },
   "outputs": [
    {
     "data": {
      "text/plain": [
       "array(['No', 'Sí', nan], dtype=object)"
      ]
     },
     "execution_count": 42,
     "metadata": {},
     "output_type": "execute_result"
    }
   ],
   "source": [
    "data['Legendario'].unique()"
   ]
  },
  {
   "cell_type": "code",
   "execution_count": null,
   "id": "u277dhTZcE-6",
   "metadata": {
    "colab": {
     "base_uri": "https://localhost:8080/",
     "height": 297
    },
    "id": "u277dhTZcE-6",
    "outputId": "8ccd9dc4-db19-49bc-ee39-1f6c1fb37335"
   },
   "outputs": [
    {
     "data": {
      "text/plain": [
       "<matplotlib.axes._subplots.AxesSubplot at 0x7f570479ed90>"
      ]
     },
     "execution_count": 43,
     "metadata": {},
     "output_type": "execute_result"
    },
    {
     "data": {
      "image/png": "[encoded data removed]",
      "text/plain": [
       "<Figure size 432x288 with 1 Axes>"
      ]
     },
     "metadata": {
      "needs_background": "light"
     },
     "output_type": "display_data"
    }
   ],
   "source": [
    "sns.countplot(y=data['Legendario'])"
   ]
  },
  {
   "cell_type": "code",
   "execution_count": null,
   "id": "86crt5FxcqTS",
   "metadata": {
    "colab": {
     "base_uri": "https://localhost:8080/"
    },
    "id": "86crt5FxcqTS",
    "outputId": "85f75a7d-2ba2-4b01-e882-3c6616961e82"
   },
   "outputs": [
    {
     "data": {
      "text/plain": [
       "1      1\n",
       "447    1\n",
       "429    1\n",
       "430    1\n",
       "431    1\n",
       "      ..\n",
       "219    1\n",
       "220    1\n",
       "221    1\n",
       "222    1\n",
       "649    1\n",
       "Name: indice_guia, Length: 649, dtype: int64"
      ]
     },
     "execution_count": 44,
     "metadata": {},
     "output_type": "execute_result"
    }
   ],
   "source": [
    "data['indice_guia'].value_counts()\n"
   ]
  },
  {
   "cell_type": "code",
   "execution_count": null,
   "id": "2F2nQNixc8lh",
   "metadata": {
    "colab": {
     "base_uri": "https://localhost:8080/"
    },
    "id": "2F2nQNixc8lh",
    "outputId": "768394ce-ee91-42bf-8a8c-79da5b47585a"
   },
   "outputs": [
    {
     "data": {
      "text/plain": [
       "(649, 15)"
      ]
     },
     "execution_count": 45,
     "metadata": {},
     "output_type": "execute_result"
    }
   ],
   "source": [
    "data.shape"
   ]
  },
  {
   "cell_type": "code",
   "execution_count": null,
   "id": "tEGB6jIqXdY3",
   "metadata": {
    "colab": {
     "base_uri": "https://localhost:8080/",
     "height": 143
    },
    "id": "tEGB6jIqXdY3",
    "outputId": "123b3edd-0f5c-4437-bc6e-2cb637485afd"
   },
   "outputs": [
    {
     "data": {
      "text/html": [
       "\n",
       "  <div id=\"df-599ef051-0990-4ac4-86e2-fd09e18cf611\">\n",
       "    <div class=\"colab-df-container\">\n",
       "      <div>\n",
       "<style scoped>\n",
       "    .dataframe tbody tr th:only-of-type {\n",
       "        vertical-align: middle;\n",
       "    }\n",
       "\n",
       "    .dataframe tbody tr th {\n",
       "        vertical-align: top;\n",
       "    }\n",
       "\n",
       "    .dataframe thead th {\n",
       "        text-align: right;\n",
       "    }\n",
       "</style>\n",
       "<table border=\"1\" class=\"dataframe\">\n",
       "  <thead>\n",
       "    <tr style=\"text-align: right;\">\n",
       "      <th></th>\n",
       "      <th>nombre</th>\n",
       "      <th>indice_guia</th>\n",
       "      <th>resistencia</th>\n",
       "      <th>ataque</th>\n",
       "      <th>defensa</th>\n",
       "      <th>tipo_primario</th>\n",
       "      <th>tipo_secundario</th>\n",
       "      <th>max_salud</th>\n",
       "      <th>tasa_captura</th>\n",
       "      <th>tasa_escape</th>\n",
       "      <th>peso</th>\n",
       "      <th>altura</th>\n",
       "      <th>Legendario</th>\n",
       "      <th>generacion</th>\n",
       "      <th>fuerza_combate</th>\n",
       "    </tr>\n",
       "  </thead>\n",
       "  <tbody>\n",
       "    <tr>\n",
       "      <th>0</th>\n",
       "      <td>Bulbasaur</td>\n",
       "      <td>1</td>\n",
       "      <td>128.0</td>\n",
       "      <td>118.0</td>\n",
       "      <td>111.0</td>\n",
       "      <td>Grass</td>\n",
       "      <td>Poison</td>\n",
       "      <td>113.0</td>\n",
       "      <td>0.20</td>\n",
       "      <td>0.10</td>\n",
       "      <td>6.9</td>\n",
       "      <td>0.7</td>\n",
       "      <td>No</td>\n",
       "      <td>1</td>\n",
       "      <td>1115</td>\n",
       "    </tr>\n",
       "    <tr>\n",
       "      <th>1</th>\n",
       "      <td>Ivysaur</td>\n",
       "      <td>2</td>\n",
       "      <td>155.0</td>\n",
       "      <td>151.0</td>\n",
       "      <td>143.0</td>\n",
       "      <td>Grass</td>\n",
       "      <td>Poison</td>\n",
       "      <td>134.0</td>\n",
       "      <td>0.10</td>\n",
       "      <td>0.07</td>\n",
       "      <td>13.0</td>\n",
       "      <td>1.0</td>\n",
       "      <td>No</td>\n",
       "      <td>1</td>\n",
       "      <td>1699</td>\n",
       "    </tr>\n",
       "    <tr>\n",
       "      <th>2</th>\n",
       "      <td>Venusaur</td>\n",
       "      <td>3</td>\n",
       "      <td>190.0</td>\n",
       "      <td>198.0</td>\n",
       "      <td>189.0</td>\n",
       "      <td>Grass</td>\n",
       "      <td>Poison</td>\n",
       "      <td>162.0</td>\n",
       "      <td>0.05</td>\n",
       "      <td>0.05</td>\n",
       "      <td>100.0</td>\n",
       "      <td>2.0</td>\n",
       "      <td>No</td>\n",
       "      <td>1</td>\n",
       "      <td>2720</td>\n",
       "    </tr>\n",
       "  </tbody>\n",
       "</table>\n",
       "</div>\n",
       "      <button class=\"colab-df-convert\" onclick=\"convertToInteractive('df-599ef051-0990-4ac4-86e2-fd09e18cf611')\"\n",
       "              title=\"Convert this dataframe to an interactive table.\"\n",
       "              style=\"display:none;\">\n",
       "        \n",
       "  <svg xmlns=\"http://www.w3.org/2000/svg\" height=\"24px\"viewBox=\"0 0 24 24\"\n",
       "       width=\"24px\">\n",
       "    <path d=\"M0 0h24v24H0V0z\" fill=\"none\"/>\n",
       "    <path d=\"M18.56 5.44l.94 2.06.94-2.06 2.06-.94-2.06-.94-.94-2.06-.94 2.06-2.06.94zm-11 1L8.5 8.5l.94-2.06 2.06-.94-2.06-.94L8.5 2.5l-.94 2.06-2.06.94zm10 10l.94 2.06.94-2.06 2.06-.94-2.06-.94-.94-2.06-.94 2.06-2.06.94z\"/><path d=\"M17.41 7.96l-1.37-1.37c-.4-.4-.92-.59-1.43-.59-.52 0-1.04.2-1.43.59L10.3 9.45l-7.72 7.72c-.78.78-.78 2.05 0 2.83L4 21.41c.39.39.9.59 1.41.59.51 0 1.02-.2 1.41-.59l7.78-7.78 2.81-2.81c.8-.78.8-2.07 0-2.86zM5.41 20L4 18.59l7.72-7.72 1.47 1.35L5.41 20z\"/>\n",
       "  </svg>\n",
       "      </button>\n",
       "      \n",
       "  <style>\n",
       "    .colab-df-container {\n",
       "      display:flex;\n",
       "      flex-wrap:wrap;\n",
       "      gap: 12px;\n",
       "    }\n",
       "\n",
       "    .colab-df-convert {\n",
       "      background-color: #E8F0FE;\n",
       "      border: none;\n",
       "      border-radius: 50%;\n",
       "      cursor: pointer;\n",
       "      display: none;\n",
       "      fill: #1967D2;\n",
       "      height: 32px;\n",
       "      padding: 0 0 0 0;\n",
       "      width: 32px;\n",
       "    }\n",
       "\n",
       "    .colab-df-convert:hover {\n",
       "      background-color: #E2EBFA;\n",
       "      box-shadow: 0px 1px 2px rgba(60, 64, 67, 0.3), 0px 1px 3px 1px rgba(60, 64, 67, 0.15);\n",
       "      fill: #174EA6;\n",
       "    }\n",
       "\n",
       "    [theme=dark] .colab-df-convert {\n",
       "      background-color: #3B4455;\n",
       "      fill: #D2E3FC;\n",
       "    }\n",
       "\n",
       "    [theme=dark] .colab-df-convert:hover {\n",
       "      background-color: #434B5C;\n",
       "      box-shadow: 0px 1px 3px 1px rgba(0, 0, 0, 0.15);\n",
       "      filter: drop-shadow(0px 1px 2px rgba(0, 0, 0, 0.3));\n",
       "      fill: #FFFFFF;\n",
       "    }\n",
       "  </style>\n",
       "\n",
       "      <script>\n",
       "        const buttonEl =\n",
       "          document.querySelector('#df-599ef051-0990-4ac4-86e2-fd09e18cf611 button.colab-df-convert');\n",
       "        buttonEl.style.display =\n",
       "          google.colab.kernel.accessAllowed ? 'block' : 'none';\n",
       "\n",
       "        async function convertToInteractive(key) {\n",
       "          const element = document.querySelector('#df-599ef051-0990-4ac4-86e2-fd09e18cf611');\n",
       "          const dataTable =\n",
       "            await google.colab.kernel.invokeFunction('convertToInteractive',\n",
       "                                                     [key], {});\n",
       "          if (!dataTable) return;\n",
       "\n",
       "          const docLinkHtml = 'Like what you see? Visit the ' +\n",
       "            '<a target=\"_blank\" href=https://colab.research.google.com/notebooks/data_table.ipynb>data table notebook</a>'\n",
       "            + ' to learn more about interactive tables.';\n",
       "          element.innerHTML = '';\n",
       "          dataTable['output_type'] = 'display_data';\n",
       "          await google.colab.output.renderOutput(dataTable, element);\n",
       "          const docLink = document.createElement('div');\n",
       "          docLink.innerHTML = docLinkHtml;\n",
       "          element.appendChild(docLink);\n",
       "        }\n",
       "      </script>\n",
       "    </div>\n",
       "  </div>\n",
       "  "
      ],
      "text/plain": [
       "      nombre  indice_guia  resistencia  ataque  defensa tipo_primario  \\\n",
       "0  Bulbasaur            1        128.0   118.0    111.0         Grass   \n",
       "1    Ivysaur            2        155.0   151.0    143.0         Grass   \n",
       "2   Venusaur            3        190.0   198.0    189.0         Grass   \n",
       "\n",
       "  tipo_secundario  max_salud  tasa_captura  tasa_escape   peso  altura  \\\n",
       "0          Poison      113.0          0.20         0.10    6.9     0.7   \n",
       "1          Poison      134.0          0.10         0.07   13.0     1.0   \n",
       "2          Poison      162.0          0.05         0.05  100.0     2.0   \n",
       "\n",
       "  Legendario  generacion  fuerza_combate  \n",
       "0         No           1            1115  \n",
       "1         No           1            1699  \n",
       "2         No           1            2720  "
      ]
     },
     "execution_count": 46,
     "metadata": {},
     "output_type": "execute_result"
    }
   ],
   "source": [
    "data.head(3)"
   ]
  },
  {
   "cell_type": "code",
   "execution_count": null,
   "id": "VaVIAyt6dzi3",
   "metadata": {
    "id": "VaVIAyt6dzi3"
   },
   "outputs": [],
   "source": [
    "data.drop(columns='indice_guia', inplace=True)"
   ]
  },
  {
   "cell_type": "code",
   "execution_count": null,
   "id": "zxTAQSKOemiO",
   "metadata": {
    "colab": {
     "base_uri": "https://localhost:8080/"
    },
    "id": "zxTAQSKOemiO",
    "outputId": "c4d37110-7126-4407-d9e1-95cbbabfbe82"
   },
   "outputs": [
    {
     "data": {
      "text/plain": [
       "(649, 14)"
      ]
     },
     "execution_count": 48,
     "metadata": {},
     "output_type": "execute_result"
    }
   ],
   "source": [
    "data.shape"
   ]
  },
  {
   "cell_type": "markdown",
   "id": "executed-gothic",
   "metadata": {
    "id": "executed-gothic"
   },
   "source": [
    "### Limpieza de datos - nulos\n",
    "\n",
    "- Revisar si el dataset tiene datos nulos y cuántos por columnas\n",
    "\n",
    "- En cada caso definir si se debe **imputar**, **eliminar** o **marcar** los datos nulos de acuerdo a los criterios vistos en clase. Se pueden reemplazar valores con datos específicos o con una lista creada de manera aleatoria y/o usar métodos de pandas como *fillna* o *dropna*."
   ]
  },
  {
   "cell_type": "code",
   "execution_count": null,
   "id": "B47YAlM1e4t_",
   "metadata": {
    "colab": {
     "base_uri": "https://localhost:8080/"
    },
    "id": "B47YAlM1e4t_",
    "outputId": "d6353a38-5e1e-4d95-8d25-1d80e755a353"
   },
   "outputs": [
    {
     "data": {
      "text/plain": [
       "nombre             0\n",
       "resistencia        5\n",
       "ataque             5\n",
       "defensa            5\n",
       "tipo_primario      5\n",
       "tipo_secundario    5\n",
       "max_salud          5\n",
       "tasa_captura       5\n",
       "tasa_escape        5\n",
       "peso               0\n",
       "altura             4\n",
       "Legendario         1\n",
       "generacion         0\n",
       "fuerza_combate     0\n",
       "dtype: int64"
      ]
     },
     "execution_count": 49,
     "metadata": {},
     "output_type": "execute_result"
    }
   ],
   "source": [
    "data.isna().sum()"
   ]
  },
  {
   "cell_type": "code",
   "execution_count": null,
   "id": "pp0x0SnZfDQP",
   "metadata": {
    "colab": {
     "base_uri": "https://localhost:8080/"
    },
    "id": "pp0x0SnZfDQP",
    "outputId": "5cfeed7f-58ff-4712-a139-632daaf4e751"
   },
   "outputs": [
    {
     "data": {
      "text/plain": [
       "0      False\n",
       "1      False\n",
       "2      False\n",
       "3      False\n",
       "4      False\n",
       "       ...  \n",
       "644    False\n",
       "645    False\n",
       "646    False\n",
       "647    False\n",
       "648    False\n",
       "Name: resistencia, Length: 649, dtype: bool"
      ]
     },
     "execution_count": 50,
     "metadata": {},
     "output_type": "execute_result"
    }
   ],
   "source": [
    "nulo_resistencia = data['resistencia'].isna()\n",
    "nulo_resistencia"
   ]
  },
  {
   "cell_type": "code",
   "execution_count": null,
   "id": "g4J31_mtfRiO",
   "metadata": {
    "colab": {
     "base_uri": "https://localhost:8080/",
     "height": 206
    },
    "id": "g4J31_mtfRiO",
    "outputId": "d06e6e80-6c05-447c-ce35-509d35e7dffd"
   },
   "outputs": [
    {
     "data": {
      "text/html": [
       "\n",
       "  <div id=\"df-d085f47f-8594-45b9-b0bf-4e66ad6697ac\">\n",
       "    <div class=\"colab-df-container\">\n",
       "      <div>\n",
       "<style scoped>\n",
       "    .dataframe tbody tr th:only-of-type {\n",
       "        vertical-align: middle;\n",
       "    }\n",
       "\n",
       "    .dataframe tbody tr th {\n",
       "        vertical-align: top;\n",
       "    }\n",
       "\n",
       "    .dataframe thead th {\n",
       "        text-align: right;\n",
       "    }\n",
       "</style>\n",
       "<table border=\"1\" class=\"dataframe\">\n",
       "  <thead>\n",
       "    <tr style=\"text-align: right;\">\n",
       "      <th></th>\n",
       "      <th>nombre</th>\n",
       "      <th>resistencia</th>\n",
       "      <th>ataque</th>\n",
       "      <th>defensa</th>\n",
       "      <th>tipo_primario</th>\n",
       "      <th>tipo_secundario</th>\n",
       "      <th>max_salud</th>\n",
       "      <th>tasa_captura</th>\n",
       "      <th>tasa_escape</th>\n",
       "      <th>peso</th>\n",
       "      <th>altura</th>\n",
       "      <th>Legendario</th>\n",
       "      <th>generacion</th>\n",
       "      <th>fuerza_combate</th>\n",
       "    </tr>\n",
       "  </thead>\n",
       "  <tbody>\n",
       "    <tr>\n",
       "      <th>175</th>\n",
       "      <td>Togetic</td>\n",
       "      <td>NaN</td>\n",
       "      <td>NaN</td>\n",
       "      <td>NaN</td>\n",
       "      <td>NaN</td>\n",
       "      <td>NaN</td>\n",
       "      <td>NaN</td>\n",
       "      <td>NaN</td>\n",
       "      <td>NaN</td>\n",
       "      <td>3.2</td>\n",
       "      <td>0.61</td>\n",
       "      <td>No</td>\n",
       "      <td>2</td>\n",
       "      <td>1708</td>\n",
       "    </tr>\n",
       "    <tr>\n",
       "      <th>248</th>\n",
       "      <td>Lugia</td>\n",
       "      <td>NaN</td>\n",
       "      <td>NaN</td>\n",
       "      <td>NaN</td>\n",
       "      <td>NaN</td>\n",
       "      <td>NaN</td>\n",
       "      <td>NaN</td>\n",
       "      <td>NaN</td>\n",
       "      <td>NaN</td>\n",
       "      <td>216.0</td>\n",
       "      <td>5.21</td>\n",
       "      <td>Sí</td>\n",
       "      <td>2</td>\n",
       "      <td>3703</td>\n",
       "    </tr>\n",
       "    <tr>\n",
       "      <th>345</th>\n",
       "      <td>Cradily</td>\n",
       "      <td>NaN</td>\n",
       "      <td>NaN</td>\n",
       "      <td>NaN</td>\n",
       "      <td>NaN</td>\n",
       "      <td>NaN</td>\n",
       "      <td>NaN</td>\n",
       "      <td>NaN</td>\n",
       "      <td>NaN</td>\n",
       "      <td>60.4</td>\n",
       "      <td>1.50</td>\n",
       "      <td>No</td>\n",
       "      <td>3</td>\n",
       "      <td>2211</td>\n",
       "    </tr>\n",
       "    <tr>\n",
       "      <th>568</th>\n",
       "      <td>Garbodor</td>\n",
       "      <td>NaN</td>\n",
       "      <td>NaN</td>\n",
       "      <td>NaN</td>\n",
       "      <td>NaN</td>\n",
       "      <td>NaN</td>\n",
       "      <td>NaN</td>\n",
       "      <td>NaN</td>\n",
       "      <td>NaN</td>\n",
       "      <td>107.3</td>\n",
       "      <td>1.90</td>\n",
       "      <td>No</td>\n",
       "      <td>5</td>\n",
       "      <td>2345</td>\n",
       "    </tr>\n",
       "    <tr>\n",
       "      <th>580</th>\n",
       "      <td>Swanna</td>\n",
       "      <td>NaN</td>\n",
       "      <td>NaN</td>\n",
       "      <td>NaN</td>\n",
       "      <td>NaN</td>\n",
       "      <td>NaN</td>\n",
       "      <td>NaN</td>\n",
       "      <td>NaN</td>\n",
       "      <td>NaN</td>\n",
       "      <td>24.2</td>\n",
       "      <td>1.30</td>\n",
       "      <td>No</td>\n",
       "      <td>5</td>\n",
       "      <td>2088</td>\n",
       "    </tr>\n",
       "  </tbody>\n",
       "</table>\n",
       "</div>\n",
       "      <button class=\"colab-df-convert\" onclick=\"convertToInteractive('df-d085f47f-8594-45b9-b0bf-4e66ad6697ac')\"\n",
       "              title=\"Convert this dataframe to an interactive table.\"\n",
       "              style=\"display:none;\">\n",
       "        \n",
       "  <svg xmlns=\"http://www.w3.org/2000/svg\" height=\"24px\"viewBox=\"0 0 24 24\"\n",
       "       width=\"24px\">\n",
       "    <path d=\"M0 0h24v24H0V0z\" fill=\"none\"/>\n",
       "    <path d=\"M18.56 5.44l.94 2.06.94-2.06 2.06-.94-2.06-.94-.94-2.06-.94 2.06-2.06.94zm-11 1L8.5 8.5l.94-2.06 2.06-.94-2.06-.94L8.5 2.5l-.94 2.06-2.06.94zm10 10l.94 2.06.94-2.06 2.06-.94-2.06-.94-.94-2.06-.94 2.06-2.06.94z\"/><path d=\"M17.41 7.96l-1.37-1.37c-.4-.4-.92-.59-1.43-.59-.52 0-1.04.2-1.43.59L10.3 9.45l-7.72 7.72c-.78.78-.78 2.05 0 2.83L4 21.41c.39.39.9.59 1.41.59.51 0 1.02-.2 1.41-.59l7.78-7.78 2.81-2.81c.8-.78.8-2.07 0-2.86zM5.41 20L4 18.59l7.72-7.72 1.47 1.35L5.41 20z\"/>\n",
       "  </svg>\n",
       "      </button>\n",
       "      \n",
       "  <style>\n",
       "    .colab-df-container {\n",
       "      display:flex;\n",
       "      flex-wrap:wrap;\n",
       "      gap: 12px;\n",
       "    }\n",
       "\n",
       "    .colab-df-convert {\n",
       "      background-color: #E8F0FE;\n",
       "      border: none;\n",
       "      border-radius: 50%;\n",
       "      cursor: pointer;\n",
       "      display: none;\n",
       "      fill: #1967D2;\n",
       "      height: 32px;\n",
       "      padding: 0 0 0 0;\n",
       "      width: 32px;\n",
       "    }\n",
       "\n",
       "    .colab-df-convert:hover {\n",
       "      background-color: #E2EBFA;\n",
       "      box-shadow: 0px 1px 2px rgba(60, 64, 67, 0.3), 0px 1px 3px 1px rgba(60, 64, 67, 0.15);\n",
       "      fill: #174EA6;\n",
       "    }\n",
       "\n",
       "    [theme=dark] .colab-df-convert {\n",
       "      background-color: #3B4455;\n",
       "      fill: #D2E3FC;\n",
       "    }\n",
       "\n",
       "    [theme=dark] .colab-df-convert:hover {\n",
       "      background-color: #434B5C;\n",
       "      box-shadow: 0px 1px 3px 1px rgba(0, 0, 0, 0.15);\n",
       "      filter: drop-shadow(0px 1px 2px rgba(0, 0, 0, 0.3));\n",
       "      fill: #FFFFFF;\n",
       "    }\n",
       "  </style>\n",
       "\n",
       "      <script>\n",
       "        const buttonEl =\n",
       "          document.querySelector('#df-d085f47f-8594-45b9-b0bf-4e66ad6697ac button.colab-df-convert');\n",
       "        buttonEl.style.display =\n",
       "          google.colab.kernel.accessAllowed ? 'block' : 'none';\n",
       "\n",
       "        async function convertToInteractive(key) {\n",
       "          const element = document.querySelector('#df-d085f47f-8594-45b9-b0bf-4e66ad6697ac');\n",
       "          const dataTable =\n",
       "            await google.colab.kernel.invokeFunction('convertToInteractive',\n",
       "                                                     [key], {});\n",
       "          if (!dataTable) return;\n",
       "\n",
       "          const docLinkHtml = 'Like what you see? Visit the ' +\n",
       "            '<a target=\"_blank\" href=https://colab.research.google.com/notebooks/data_table.ipynb>data table notebook</a>'\n",
       "            + ' to learn more about interactive tables.';\n",
       "          element.innerHTML = '';\n",
       "          dataTable['output_type'] = 'display_data';\n",
       "          await google.colab.output.renderOutput(dataTable, element);\n",
       "          const docLink = document.createElement('div');\n",
       "          docLink.innerHTML = docLinkHtml;\n",
       "          element.appendChild(docLink);\n",
       "        }\n",
       "      </script>\n",
       "    </div>\n",
       "  </div>\n",
       "  "
      ],
      "text/plain": [
       "       nombre  resistencia  ataque  defensa tipo_primario tipo_secundario  \\\n",
       "175   Togetic          NaN     NaN      NaN           NaN             NaN   \n",
       "248     Lugia          NaN     NaN      NaN           NaN             NaN   \n",
       "345   Cradily          NaN     NaN      NaN           NaN             NaN   \n",
       "568  Garbodor          NaN     NaN      NaN           NaN             NaN   \n",
       "580    Swanna          NaN     NaN      NaN           NaN             NaN   \n",
       "\n",
       "     max_salud  tasa_captura  tasa_escape   peso  altura Legendario  \\\n",
       "175        NaN           NaN          NaN    3.2    0.61         No   \n",
       "248        NaN           NaN          NaN  216.0    5.21         Sí   \n",
       "345        NaN           NaN          NaN   60.4    1.50         No   \n",
       "568        NaN           NaN          NaN  107.3    1.90         No   \n",
       "580        NaN           NaN          NaN   24.2    1.30         No   \n",
       "\n",
       "     generacion  fuerza_combate  \n",
       "175           2            1708  \n",
       "248           2            3703  \n",
       "345           3            2211  \n",
       "568           5            2345  \n",
       "580           5            2088  "
      ]
     },
     "execution_count": 51,
     "metadata": {},
     "output_type": "execute_result"
    }
   ],
   "source": [
    "data.loc[nulo_resistencia]"
   ]
  },
  {
   "cell_type": "code",
   "execution_count": null,
   "id": "gOWys9GXg19X",
   "metadata": {
    "id": "gOWys9GXg19X"
   },
   "outputs": [],
   "source": [
    "data.dropna(axis=0, thresh=8, inplace=True) "
   ]
  },
  {
   "cell_type": "code",
   "execution_count": null,
   "id": "l4MefAFCg3lJ",
   "metadata": {
    "colab": {
     "base_uri": "https://localhost:8080/",
     "height": 49
    },
    "id": "l4MefAFCg3lJ",
    "outputId": "c46100f0-c29a-4e8d-e9a6-9b16553ff9b8"
   },
   "outputs": [
    {
     "data": {
      "text/html": [
       "\n",
       "  <div id=\"df-4bf40a0b-e081-4d5a-8aff-508b6ba06546\">\n",
       "    <div class=\"colab-df-container\">\n",
       "      <div>\n",
       "<style scoped>\n",
       "    .dataframe tbody tr th:only-of-type {\n",
       "        vertical-align: middle;\n",
       "    }\n",
       "\n",
       "    .dataframe tbody tr th {\n",
       "        vertical-align: top;\n",
       "    }\n",
       "\n",
       "    .dataframe thead th {\n",
       "        text-align: right;\n",
       "    }\n",
       "</style>\n",
       "<table border=\"1\" class=\"dataframe\">\n",
       "  <thead>\n",
       "    <tr style=\"text-align: right;\">\n",
       "      <th></th>\n",
       "      <th>nombre</th>\n",
       "      <th>resistencia</th>\n",
       "      <th>ataque</th>\n",
       "      <th>defensa</th>\n",
       "      <th>tipo_primario</th>\n",
       "      <th>tipo_secundario</th>\n",
       "      <th>max_salud</th>\n",
       "      <th>tasa_captura</th>\n",
       "      <th>tasa_escape</th>\n",
       "      <th>peso</th>\n",
       "      <th>altura</th>\n",
       "      <th>Legendario</th>\n",
       "      <th>generacion</th>\n",
       "      <th>fuerza_combate</th>\n",
       "    </tr>\n",
       "  </thead>\n",
       "  <tbody>\n",
       "  </tbody>\n",
       "</table>\n",
       "</div>\n",
       "      <button class=\"colab-df-convert\" onclick=\"convertToInteractive('df-4bf40a0b-e081-4d5a-8aff-508b6ba06546')\"\n",
       "              title=\"Convert this dataframe to an interactive table.\"\n",
       "              style=\"display:none;\">\n",
       "        \n",
       "  <svg xmlns=\"http://www.w3.org/2000/svg\" height=\"24px\"viewBox=\"0 0 24 24\"\n",
       "       width=\"24px\">\n",
       "    <path d=\"M0 0h24v24H0V0z\" fill=\"none\"/>\n",
       "    <path d=\"M18.56 5.44l.94 2.06.94-2.06 2.06-.94-2.06-.94-.94-2.06-.94 2.06-2.06.94zm-11 1L8.5 8.5l.94-2.06 2.06-.94-2.06-.94L8.5 2.5l-.94 2.06-2.06.94zm10 10l.94 2.06.94-2.06 2.06-.94-2.06-.94-.94-2.06-.94 2.06-2.06.94z\"/><path d=\"M17.41 7.96l-1.37-1.37c-.4-.4-.92-.59-1.43-.59-.52 0-1.04.2-1.43.59L10.3 9.45l-7.72 7.72c-.78.78-.78 2.05 0 2.83L4 21.41c.39.39.9.59 1.41.59.51 0 1.02-.2 1.41-.59l7.78-7.78 2.81-2.81c.8-.78.8-2.07 0-2.86zM5.41 20L4 18.59l7.72-7.72 1.47 1.35L5.41 20z\"/>\n",
       "  </svg>\n",
       "      </button>\n",
       "      \n",
       "  <style>\n",
       "    .colab-df-container {\n",
       "      display:flex;\n",
       "      flex-wrap:wrap;\n",
       "      gap: 12px;\n",
       "    }\n",
       "\n",
       "    .colab-df-convert {\n",
       "      background-color: #E8F0FE;\n",
       "      border: none;\n",
       "      border-radius: 50%;\n",
       "      cursor: pointer;\n",
       "      display: none;\n",
       "      fill: #1967D2;\n",
       "      height: 32px;\n",
       "      padding: 0 0 0 0;\n",
       "      width: 32px;\n",
       "    }\n",
       "\n",
       "    .colab-df-convert:hover {\n",
       "      background-color: #E2EBFA;\n",
       "      box-shadow: 0px 1px 2px rgba(60, 64, 67, 0.3), 0px 1px 3px 1px rgba(60, 64, 67, 0.15);\n",
       "      fill: #174EA6;\n",
       "    }\n",
       "\n",
       "    [theme=dark] .colab-df-convert {\n",
       "      background-color: #3B4455;\n",
       "      fill: #D2E3FC;\n",
       "    }\n",
       "\n",
       "    [theme=dark] .colab-df-convert:hover {\n",
       "      background-color: #434B5C;\n",
       "      box-shadow: 0px 1px 3px 1px rgba(0, 0, 0, 0.15);\n",
       "      filter: drop-shadow(0px 1px 2px rgba(0, 0, 0, 0.3));\n",
       "      fill: #FFFFFF;\n",
       "    }\n",
       "  </style>\n",
       "\n",
       "      <script>\n",
       "        const buttonEl =\n",
       "          document.querySelector('#df-4bf40a0b-e081-4d5a-8aff-508b6ba06546 button.colab-df-convert');\n",
       "        buttonEl.style.display =\n",
       "          google.colab.kernel.accessAllowed ? 'block' : 'none';\n",
       "\n",
       "        async function convertToInteractive(key) {\n",
       "          const element = document.querySelector('#df-4bf40a0b-e081-4d5a-8aff-508b6ba06546');\n",
       "          const dataTable =\n",
       "            await google.colab.kernel.invokeFunction('convertToInteractive',\n",
       "                                                     [key], {});\n",
       "          if (!dataTable) return;\n",
       "\n",
       "          const docLinkHtml = 'Like what you see? Visit the ' +\n",
       "            '<a target=\"_blank\" href=https://colab.research.google.com/notebooks/data_table.ipynb>data table notebook</a>'\n",
       "            + ' to learn more about interactive tables.';\n",
       "          element.innerHTML = '';\n",
       "          dataTable['output_type'] = 'display_data';\n",
       "          await google.colab.output.renderOutput(dataTable, element);\n",
       "          const docLink = document.createElement('div');\n",
       "          docLink.innerHTML = docLinkHtml;\n",
       "          element.appendChild(docLink);\n",
       "        }\n",
       "      </script>\n",
       "    </div>\n",
       "  </div>\n",
       "  "
      ],
      "text/plain": [
       "Empty DataFrame\n",
       "Columns: [nombre, resistencia, ataque, defensa, tipo_primario, tipo_secundario, max_salud, tasa_captura, tasa_escape, peso, altura, Legendario, generacion, fuerza_combate]\n",
       "Index: []"
      ]
     },
     "execution_count": 53,
     "metadata": {},
     "output_type": "execute_result"
    }
   ],
   "source": [
    "data.loc[nulo_resistencia]"
   ]
  },
  {
   "cell_type": "code",
   "execution_count": null,
   "id": "wed-U7UOhInQ",
   "metadata": {
    "colab": {
     "base_uri": "https://localhost:8080/"
    },
    "id": "wed-U7UOhInQ",
    "outputId": "9a0b4f29-9ac7-4473-84bb-c80261742642"
   },
   "outputs": [
    {
     "data": {
      "text/plain": [
       "nombre             0\n",
       "resistencia        0\n",
       "ataque             0\n",
       "defensa            0\n",
       "tipo_primario      0\n",
       "tipo_secundario    0\n",
       "max_salud          0\n",
       "tasa_captura       0\n",
       "tasa_escape        0\n",
       "peso               0\n",
       "altura             4\n",
       "Legendario         1\n",
       "generacion         0\n",
       "fuerza_combate     0\n",
       "dtype: int64"
      ]
     },
     "execution_count": 54,
     "metadata": {},
     "output_type": "execute_result"
    }
   ],
   "source": [
    "data.isna().sum()"
   ]
  },
  {
   "cell_type": "code",
   "execution_count": null,
   "id": "LULgTzzbhMYL",
   "metadata": {
    "colab": {
     "base_uri": "https://localhost:8080/"
    },
    "id": "LULgTzzbhMYL",
    "outputId": "9e6c1309-8789-4b57-8211-bc57362b78fc"
   },
   "outputs": [
    {
     "data": {
      "text/plain": [
       "(644, 14)"
      ]
     },
     "execution_count": 55,
     "metadata": {},
     "output_type": "execute_result"
    }
   ],
   "source": [
    "data.shape"
   ]
  },
  {
   "cell_type": "code",
   "execution_count": null,
   "id": "aMuBkVmWhcR7",
   "metadata": {
    "colab": {
     "base_uri": "https://localhost:8080/"
    },
    "id": "aMuBkVmWhcR7",
    "outputId": "2455efb5-60e5-454d-ab5f-617cb9c707f1"
   },
   "outputs": [
    {
     "data": {
      "text/plain": [
       "0      False\n",
       "1      False\n",
       "2      False\n",
       "3      False\n",
       "4      False\n",
       "       ...  \n",
       "644    False\n",
       "645    False\n",
       "646    False\n",
       "647    False\n",
       "648    False\n",
       "Name: altura, Length: 644, dtype: bool"
      ]
     },
     "execution_count": 56,
     "metadata": {},
     "output_type": "execute_result"
    }
   ],
   "source": [
    "nulo_altura = data['altura'].isna()\n",
    "nulo_altura"
   ]
  },
  {
   "cell_type": "code",
   "execution_count": null,
   "id": "PRLbfd0BhlIe",
   "metadata": {
    "colab": {
     "base_uri": "https://localhost:8080/",
     "height": 175
    },
    "id": "PRLbfd0BhlIe",
    "outputId": "f687d936-0a9c-4e1f-f87a-aa26212d4bb5"
   },
   "outputs": [
    {
     "data": {
      "text/html": [
       "\n",
       "  <div id=\"df-fcd560ac-f38d-4423-b340-cb6bbda2b52b\">\n",
       "    <div class=\"colab-df-container\">\n",
       "      <div>\n",
       "<style scoped>\n",
       "    .dataframe tbody tr th:only-of-type {\n",
       "        vertical-align: middle;\n",
       "    }\n",
       "\n",
       "    .dataframe tbody tr th {\n",
       "        vertical-align: top;\n",
       "    }\n",
       "\n",
       "    .dataframe thead th {\n",
       "        text-align: right;\n",
       "    }\n",
       "</style>\n",
       "<table border=\"1\" class=\"dataframe\">\n",
       "  <thead>\n",
       "    <tr style=\"text-align: right;\">\n",
       "      <th></th>\n",
       "      <th>nombre</th>\n",
       "      <th>resistencia</th>\n",
       "      <th>ataque</th>\n",
       "      <th>defensa</th>\n",
       "      <th>tipo_primario</th>\n",
       "      <th>tipo_secundario</th>\n",
       "      <th>max_salud</th>\n",
       "      <th>tasa_captura</th>\n",
       "      <th>tasa_escape</th>\n",
       "      <th>peso</th>\n",
       "      <th>altura</th>\n",
       "      <th>Legendario</th>\n",
       "      <th>generacion</th>\n",
       "      <th>fuerza_combate</th>\n",
       "    </tr>\n",
       "  </thead>\n",
       "  <tbody>\n",
       "    <tr>\n",
       "      <th>123</th>\n",
       "      <td>Jynx</td>\n",
       "      <td>163.0</td>\n",
       "      <td>223.0</td>\n",
       "      <td>151.0</td>\n",
       "      <td>Ice</td>\n",
       "      <td>Psychic</td>\n",
       "      <td>140.0</td>\n",
       "      <td>0.3</td>\n",
       "      <td>0.09</td>\n",
       "      <td>40.6</td>\n",
       "      <td>NaN</td>\n",
       "      <td>No</td>\n",
       "      <td>1</td>\n",
       "      <td>2555</td>\n",
       "    </tr>\n",
       "    <tr>\n",
       "      <th>128</th>\n",
       "      <td>Magikarp</td>\n",
       "      <td>85.0</td>\n",
       "      <td>29.0</td>\n",
       "      <td>85.0</td>\n",
       "      <td>Water</td>\n",
       "      <td>None</td>\n",
       "      <td>79.0</td>\n",
       "      <td>0.7</td>\n",
       "      <td>0.15</td>\n",
       "      <td>10.0</td>\n",
       "      <td>NaN</td>\n",
       "      <td>No</td>\n",
       "      <td>1</td>\n",
       "      <td>274</td>\n",
       "    </tr>\n",
       "    <tr>\n",
       "      <th>352</th>\n",
       "      <td>Shuppet</td>\n",
       "      <td>127.0</td>\n",
       "      <td>138.0</td>\n",
       "      <td>65.0</td>\n",
       "      <td>Ghost</td>\n",
       "      <td>None</td>\n",
       "      <td>112.0</td>\n",
       "      <td>0.4</td>\n",
       "      <td>0.10</td>\n",
       "      <td>2.3</td>\n",
       "      <td>NaN</td>\n",
       "      <td>No</td>\n",
       "      <td>3</td>\n",
       "      <td>1018</td>\n",
       "    </tr>\n",
       "    <tr>\n",
       "      <th>435</th>\n",
       "      <td>Bronzor</td>\n",
       "      <td>149.0</td>\n",
       "      <td>43.0</td>\n",
       "      <td>154.0</td>\n",
       "      <td>Steel</td>\n",
       "      <td>Psychic</td>\n",
       "      <td>129.0</td>\n",
       "      <td>0.5</td>\n",
       "      <td>0.10</td>\n",
       "      <td>60.5</td>\n",
       "      <td>NaN</td>\n",
       "      <td>No</td>\n",
       "      <td>4</td>\n",
       "      <td>603</td>\n",
       "    </tr>\n",
       "  </tbody>\n",
       "</table>\n",
       "</div>\n",
       "      <button class=\"colab-df-convert\" onclick=\"convertToInteractive('df-fcd560ac-f38d-4423-b340-cb6bbda2b52b')\"\n",
       "              title=\"Convert this dataframe to an interactive table.\"\n",
       "              style=\"display:none;\">\n",
       "        \n",
       "  <svg xmlns=\"http://www.w3.org/2000/svg\" height=\"24px\"viewBox=\"0 0 24 24\"\n",
       "       width=\"24px\">\n",
       "    <path d=\"M0 0h24v24H0V0z\" fill=\"none\"/>\n",
       "    <path d=\"M18.56 5.44l.94 2.06.94-2.06 2.06-.94-2.06-.94-.94-2.06-.94 2.06-2.06.94zm-11 1L8.5 8.5l.94-2.06 2.06-.94-2.06-.94L8.5 2.5l-.94 2.06-2.06.94zm10 10l.94 2.06.94-2.06 2.06-.94-2.06-.94-.94-2.06-.94 2.06-2.06.94z\"/><path d=\"M17.41 7.96l-1.37-1.37c-.4-.4-.92-.59-1.43-.59-.52 0-1.04.2-1.43.59L10.3 9.45l-7.72 7.72c-.78.78-.78 2.05 0 2.83L4 21.41c.39.39.9.59 1.41.59.51 0 1.02-.2 1.41-.59l7.78-7.78 2.81-2.81c.8-.78.8-2.07 0-2.86zM5.41 20L4 18.59l7.72-7.72 1.47 1.35L5.41 20z\"/>\n",
       "  </svg>\n",
       "      </button>\n",
       "      \n",
       "  <style>\n",
       "    .colab-df-container {\n",
       "      display:flex;\n",
       "      flex-wrap:wrap;\n",
       "      gap: 12px;\n",
       "    }\n",
       "\n",
       "    .colab-df-convert {\n",
       "      background-color: #E8F0FE;\n",
       "      border: none;\n",
       "      border-radius: 50%;\n",
       "      cursor: pointer;\n",
       "      display: none;\n",
       "      fill: #1967D2;\n",
       "      height: 32px;\n",
       "      padding: 0 0 0 0;\n",
       "      width: 32px;\n",
       "    }\n",
       "\n",
       "    .colab-df-convert:hover {\n",
       "      background-color: #E2EBFA;\n",
       "      box-shadow: 0px 1px 2px rgba(60, 64, 67, 0.3), 0px 1px 3px 1px rgba(60, 64, 67, 0.15);\n",
       "      fill: #174EA6;\n",
       "    }\n",
       "\n",
       "    [theme=dark] .colab-df-convert {\n",
       "      background-color: #3B4455;\n",
       "      fill: #D2E3FC;\n",
       "    }\n",
       "\n",
       "    [theme=dark] .colab-df-convert:hover {\n",
       "      background-color: #434B5C;\n",
       "      box-shadow: 0px 1px 3px 1px rgba(0, 0, 0, 0.15);\n",
       "      filter: drop-shadow(0px 1px 2px rgba(0, 0, 0, 0.3));\n",
       "      fill: #FFFFFF;\n",
       "    }\n",
       "  </style>\n",
       "\n",
       "      <script>\n",
       "        const buttonEl =\n",
       "          document.querySelector('#df-fcd560ac-f38d-4423-b340-cb6bbda2b52b button.colab-df-convert');\n",
       "        buttonEl.style.display =\n",
       "          google.colab.kernel.accessAllowed ? 'block' : 'none';\n",
       "\n",
       "        async function convertToInteractive(key) {\n",
       "          const element = document.querySelector('#df-fcd560ac-f38d-4423-b340-cb6bbda2b52b');\n",
       "          const dataTable =\n",
       "            await google.colab.kernel.invokeFunction('convertToInteractive',\n",
       "                                                     [key], {});\n",
       "          if (!dataTable) return;\n",
       "\n",
       "          const docLinkHtml = 'Like what you see? Visit the ' +\n",
       "            '<a target=\"_blank\" href=https://colab.research.google.com/notebooks/data_table.ipynb>data table notebook</a>'\n",
       "            + ' to learn more about interactive tables.';\n",
       "          element.innerHTML = '';\n",
       "          dataTable['output_type'] = 'display_data';\n",
       "          await google.colab.output.renderOutput(dataTable, element);\n",
       "          const docLink = document.createElement('div');\n",
       "          docLink.innerHTML = docLinkHtml;\n",
       "          element.appendChild(docLink);\n",
       "        }\n",
       "      </script>\n",
       "    </div>\n",
       "  </div>\n",
       "  "
      ],
      "text/plain": [
       "       nombre  resistencia  ataque  defensa tipo_primario tipo_secundario  \\\n",
       "123      Jynx        163.0   223.0    151.0           Ice         Psychic   \n",
       "128  Magikarp         85.0    29.0     85.0         Water            None   \n",
       "352   Shuppet        127.0   138.0     65.0         Ghost            None   \n",
       "435   Bronzor        149.0    43.0    154.0         Steel         Psychic   \n",
       "\n",
       "     max_salud  tasa_captura  tasa_escape  peso  altura Legendario  \\\n",
       "123      140.0           0.3         0.09  40.6     NaN         No   \n",
       "128       79.0           0.7         0.15  10.0     NaN         No   \n",
       "352      112.0           0.4         0.10   2.3     NaN         No   \n",
       "435      129.0           0.5         0.10  60.5     NaN         No   \n",
       "\n",
       "     generacion  fuerza_combate  \n",
       "123           1            2555  \n",
       "128           1             274  \n",
       "352           3            1018  \n",
       "435           4             603  "
      ]
     },
     "execution_count": 57,
     "metadata": {},
     "output_type": "execute_result"
    }
   ],
   "source": [
    "data.loc[nulo_altura]"
   ]
  },
  {
   "cell_type": "code",
   "execution_count": null,
   "id": "3bQlcPhJjOMX",
   "metadata": {
    "colab": {
     "base_uri": "https://localhost:8080/"
    },
    "id": "3bQlcPhJjOMX",
    "outputId": "7da5d04a-33f1-4b52-a57c-51cd7a6ce0a2"
   },
   "outputs": [
    {
     "data": {
      "text/plain": [
       "1.1431406249999998"
      ]
     },
     "execution_count": 58,
     "metadata": {},
     "output_type": "execute_result"
    }
   ],
   "source": [
    "promedio_altura = data['altura'].mean()\n",
    "promedio_altura"
   ]
  },
  {
   "cell_type": "code",
   "execution_count": null,
   "id": "7Z59jp7JkE3r",
   "metadata": {
    "colab": {
     "base_uri": "https://localhost:8080/"
    },
    "id": "7Z59jp7JkE3r",
    "outputId": "8c2fa8a7-5a3c-4fe7-a4d6-7c5fbb8aa8ae"
   },
   "outputs": [
    {
     "data": {
      "text/plain": [
       "1.14"
      ]
     },
     "execution_count": 59,
     "metadata": {},
     "output_type": "execute_result"
    }
   ],
   "source": [
    "promedio_altura_redondeado = round(promedio_altura, 2)\n",
    "promedio_altura_redondeado"
   ]
  },
  {
   "cell_type": "code",
   "execution_count": null,
   "id": "EqIpZ3NhkBre",
   "metadata": {
    "id": "EqIpZ3NhkBre"
   },
   "outputs": [],
   "source": [
    "data['altura'] = data['altura'].fillna(promedio_altura_redondeado)"
   ]
  },
  {
   "cell_type": "code",
   "execution_count": null,
   "id": "9uCAdrmekWv0",
   "metadata": {
    "colab": {
     "base_uri": "https://localhost:8080/",
     "height": 49
    },
    "id": "9uCAdrmekWv0",
    "outputId": "d8dadb8d-89fb-4b56-ad6f-a8fd1eabf8e6"
   },
   "outputs": [
    {
     "data": {
      "text/html": [
       "\n",
       "  <div id=\"df-eb32959f-377e-4447-8970-b1fc53851d6e\">\n",
       "    <div class=\"colab-df-container\">\n",
       "      <div>\n",
       "<style scoped>\n",
       "    .dataframe tbody tr th:only-of-type {\n",
       "        vertical-align: middle;\n",
       "    }\n",
       "\n",
       "    .dataframe tbody tr th {\n",
       "        vertical-align: top;\n",
       "    }\n",
       "\n",
       "    .dataframe thead th {\n",
       "        text-align: right;\n",
       "    }\n",
       "</style>\n",
       "<table border=\"1\" class=\"dataframe\">\n",
       "  <thead>\n",
       "    <tr style=\"text-align: right;\">\n",
       "      <th></th>\n",
       "      <th>nombre</th>\n",
       "      <th>resistencia</th>\n",
       "      <th>ataque</th>\n",
       "      <th>defensa</th>\n",
       "      <th>tipo_primario</th>\n",
       "      <th>tipo_secundario</th>\n",
       "      <th>max_salud</th>\n",
       "      <th>tasa_captura</th>\n",
       "      <th>tasa_escape</th>\n",
       "      <th>peso</th>\n",
       "      <th>altura</th>\n",
       "      <th>Legendario</th>\n",
       "      <th>generacion</th>\n",
       "      <th>fuerza_combate</th>\n",
       "    </tr>\n",
       "  </thead>\n",
       "  <tbody>\n",
       "  </tbody>\n",
       "</table>\n",
       "</div>\n",
       "      <button class=\"colab-df-convert\" onclick=\"convertToInteractive('df-eb32959f-377e-4447-8970-b1fc53851d6e')\"\n",
       "              title=\"Convert this dataframe to an interactive table.\"\n",
       "              style=\"display:none;\">\n",
       "        \n",
       "  <svg xmlns=\"http://www.w3.org/2000/svg\" height=\"24px\"viewBox=\"0 0 24 24\"\n",
       "       width=\"24px\">\n",
       "    <path d=\"M0 0h24v24H0V0z\" fill=\"none\"/>\n",
       "    <path d=\"M18.56 5.44l.94 2.06.94-2.06 2.06-.94-2.06-.94-.94-2.06-.94 2.06-2.06.94zm-11 1L8.5 8.5l.94-2.06 2.06-.94-2.06-.94L8.5 2.5l-.94 2.06-2.06.94zm10 10l.94 2.06.94-2.06 2.06-.94-2.06-.94-.94-2.06-.94 2.06-2.06.94z\"/><path d=\"M17.41 7.96l-1.37-1.37c-.4-.4-.92-.59-1.43-.59-.52 0-1.04.2-1.43.59L10.3 9.45l-7.72 7.72c-.78.78-.78 2.05 0 2.83L4 21.41c.39.39.9.59 1.41.59.51 0 1.02-.2 1.41-.59l7.78-7.78 2.81-2.81c.8-.78.8-2.07 0-2.86zM5.41 20L4 18.59l7.72-7.72 1.47 1.35L5.41 20z\"/>\n",
       "  </svg>\n",
       "      </button>\n",
       "      \n",
       "  <style>\n",
       "    .colab-df-container {\n",
       "      display:flex;\n",
       "      flex-wrap:wrap;\n",
       "      gap: 12px;\n",
       "    }\n",
       "\n",
       "    .colab-df-convert {\n",
       "      background-color: #E8F0FE;\n",
       "      border: none;\n",
       "      border-radius: 50%;\n",
       "      cursor: pointer;\n",
       "      display: none;\n",
       "      fill: #1967D2;\n",
       "      height: 32px;\n",
       "      padding: 0 0 0 0;\n",
       "      width: 32px;\n",
       "    }\n",
       "\n",
       "    .colab-df-convert:hover {\n",
       "      background-color: #E2EBFA;\n",
       "      box-shadow: 0px 1px 2px rgba(60, 64, 67, 0.3), 0px 1px 3px 1px rgba(60, 64, 67, 0.15);\n",
       "      fill: #174EA6;\n",
       "    }\n",
       "\n",
       "    [theme=dark] .colab-df-convert {\n",
       "      background-color: #3B4455;\n",
       "      fill: #D2E3FC;\n",
       "    }\n",
       "\n",
       "    [theme=dark] .colab-df-convert:hover {\n",
       "      background-color: #434B5C;\n",
       "      box-shadow: 0px 1px 3px 1px rgba(0, 0, 0, 0.15);\n",
       "      filter: drop-shadow(0px 1px 2px rgba(0, 0, 0, 0.3));\n",
       "      fill: #FFFFFF;\n",
       "    }\n",
       "  </style>\n",
       "\n",
       "      <script>\n",
       "        const buttonEl =\n",
       "          document.querySelector('#df-eb32959f-377e-4447-8970-b1fc53851d6e button.colab-df-convert');\n",
       "        buttonEl.style.display =\n",
       "          google.colab.kernel.accessAllowed ? 'block' : 'none';\n",
       "\n",
       "        async function convertToInteractive(key) {\n",
       "          const element = document.querySelector('#df-eb32959f-377e-4447-8970-b1fc53851d6e');\n",
       "          const dataTable =\n",
       "            await google.colab.kernel.invokeFunction('convertToInteractive',\n",
       "                                                     [key], {});\n",
       "          if (!dataTable) return;\n",
       "\n",
       "          const docLinkHtml = 'Like what you see? Visit the ' +\n",
       "            '<a target=\"_blank\" href=https://colab.research.google.com/notebooks/data_table.ipynb>data table notebook</a>'\n",
       "            + ' to learn more about interactive tables.';\n",
       "          element.innerHTML = '';\n",
       "          dataTable['output_type'] = 'display_data';\n",
       "          await google.colab.output.renderOutput(dataTable, element);\n",
       "          const docLink = document.createElement('div');\n",
       "          docLink.innerHTML = docLinkHtml;\n",
       "          element.appendChild(docLink);\n",
       "        }\n",
       "      </script>\n",
       "    </div>\n",
       "  </div>\n",
       "  "
      ],
      "text/plain": [
       "Empty DataFrame\n",
       "Columns: [nombre, resistencia, ataque, defensa, tipo_primario, tipo_secundario, max_salud, tasa_captura, tasa_escape, peso, altura, Legendario, generacion, fuerza_combate]\n",
       "Index: []"
      ]
     },
     "execution_count": 61,
     "metadata": {},
     "output_type": "execute_result"
    }
   ],
   "source": [
    "data.loc[data['altura'].isnull()]"
   ]
  },
  {
   "cell_type": "code",
   "execution_count": null,
   "id": "qh5z0L-0kb3s",
   "metadata": {
    "colab": {
     "base_uri": "https://localhost:8080/"
    },
    "id": "qh5z0L-0kb3s",
    "outputId": "5beb0fac-7ceb-45e1-d232-29c8db5de854"
   },
   "outputs": [
    {
     "data": {
      "text/plain": [
       "nombre             0\n",
       "resistencia        0\n",
       "ataque             0\n",
       "defensa            0\n",
       "tipo_primario      0\n",
       "tipo_secundario    0\n",
       "max_salud          0\n",
       "tasa_captura       0\n",
       "tasa_escape        0\n",
       "peso               0\n",
       "altura             0\n",
       "Legendario         1\n",
       "generacion         0\n",
       "fuerza_combate     0\n",
       "dtype: int64"
      ]
     },
     "execution_count": 62,
     "metadata": {},
     "output_type": "execute_result"
    }
   ],
   "source": [
    "data.isna().sum()"
   ]
  },
  {
   "cell_type": "code",
   "execution_count": null,
   "id": "V0N6NCrrkkT4",
   "metadata": {
    "colab": {
     "base_uri": "https://localhost:8080/"
    },
    "id": "V0N6NCrrkkT4",
    "outputId": "2eace851-9f23-46bf-d73a-a1e48c7a85bf"
   },
   "outputs": [
    {
     "data": {
      "text/plain": [
       "0      False\n",
       "1      False\n",
       "2      False\n",
       "3      False\n",
       "4      False\n",
       "       ...  \n",
       "644    False\n",
       "645    False\n",
       "646    False\n",
       "647    False\n",
       "648    False\n",
       "Name: Legendario, Length: 644, dtype: bool"
      ]
     },
     "execution_count": 63,
     "metadata": {},
     "output_type": "execute_result"
    }
   ],
   "source": [
    "nulo_legendario = data['Legendario'].isna()\n",
    "nulo_legendario"
   ]
  },
  {
   "cell_type": "code",
   "execution_count": null,
   "id": "hEyPJzSLkx15",
   "metadata": {
    "colab": {
     "base_uri": "https://localhost:8080/",
     "height": 81
    },
    "id": "hEyPJzSLkx15",
    "outputId": "c10be80f-314c-439f-e8ab-07199cebbd27"
   },
   "outputs": [
    {
     "data": {
      "text/html": [
       "\n",
       "  <div id=\"df-f69ce03c-2433-40b8-aed8-9ae12a9c80b4\">\n",
       "    <div class=\"colab-df-container\">\n",
       "      <div>\n",
       "<style scoped>\n",
       "    .dataframe tbody tr th:only-of-type {\n",
       "        vertical-align: middle;\n",
       "    }\n",
       "\n",
       "    .dataframe tbody tr th {\n",
       "        vertical-align: top;\n",
       "    }\n",
       "\n",
       "    .dataframe thead th {\n",
       "        text-align: right;\n",
       "    }\n",
       "</style>\n",
       "<table border=\"1\" class=\"dataframe\">\n",
       "  <thead>\n",
       "    <tr style=\"text-align: right;\">\n",
       "      <th></th>\n",
       "      <th>nombre</th>\n",
       "      <th>resistencia</th>\n",
       "      <th>ataque</th>\n",
       "      <th>defensa</th>\n",
       "      <th>tipo_primario</th>\n",
       "      <th>tipo_secundario</th>\n",
       "      <th>max_salud</th>\n",
       "      <th>tasa_captura</th>\n",
       "      <th>tasa_escape</th>\n",
       "      <th>peso</th>\n",
       "      <th>altura</th>\n",
       "      <th>Legendario</th>\n",
       "      <th>generacion</th>\n",
       "      <th>fuerza_combate</th>\n",
       "    </tr>\n",
       "  </thead>\n",
       "  <tbody>\n",
       "    <tr>\n",
       "      <th>162</th>\n",
       "      <td>Hoothoot</td>\n",
       "      <td>155.0</td>\n",
       "      <td>67.0</td>\n",
       "      <td>88.0</td>\n",
       "      <td>Normal</td>\n",
       "      <td>Flying</td>\n",
       "      <td>134.0</td>\n",
       "      <td>0.5</td>\n",
       "      <td>0.15</td>\n",
       "      <td>21.2</td>\n",
       "      <td>0.71</td>\n",
       "      <td>NaN</td>\n",
       "      <td>2</td>\n",
       "      <td>677</td>\n",
       "    </tr>\n",
       "  </tbody>\n",
       "</table>\n",
       "</div>\n",
       "      <button class=\"colab-df-convert\" onclick=\"convertToInteractive('df-f69ce03c-2433-40b8-aed8-9ae12a9c80b4')\"\n",
       "              title=\"Convert this dataframe to an interactive table.\"\n",
       "              style=\"display:none;\">\n",
       "        \n",
       "  <svg xmlns=\"http://www.w3.org/2000/svg\" height=\"24px\"viewBox=\"0 0 24 24\"\n",
       "       width=\"24px\">\n",
       "    <path d=\"M0 0h24v24H0V0z\" fill=\"none\"/>\n",
       "    <path d=\"M18.56 5.44l.94 2.06.94-2.06 2.06-.94-2.06-.94-.94-2.06-.94 2.06-2.06.94zm-11 1L8.5 8.5l.94-2.06 2.06-.94-2.06-.94L8.5 2.5l-.94 2.06-2.06.94zm10 10l.94 2.06.94-2.06 2.06-.94-2.06-.94-.94-2.06-.94 2.06-2.06.94z\"/><path d=\"M17.41 7.96l-1.37-1.37c-.4-.4-.92-.59-1.43-.59-.52 0-1.04.2-1.43.59L10.3 9.45l-7.72 7.72c-.78.78-.78 2.05 0 2.83L4 21.41c.39.39.9.59 1.41.59.51 0 1.02-.2 1.41-.59l7.78-7.78 2.81-2.81c.8-.78.8-2.07 0-2.86zM5.41 20L4 18.59l7.72-7.72 1.47 1.35L5.41 20z\"/>\n",
       "  </svg>\n",
       "      </button>\n",
       "      \n",
       "  <style>\n",
       "    .colab-df-container {\n",
       "      display:flex;\n",
       "      flex-wrap:wrap;\n",
       "      gap: 12px;\n",
       "    }\n",
       "\n",
       "    .colab-df-convert {\n",
       "      background-color: #E8F0FE;\n",
       "      border: none;\n",
       "      border-radius: 50%;\n",
       "      cursor: pointer;\n",
       "      display: none;\n",
       "      fill: #1967D2;\n",
       "      height: 32px;\n",
       "      padding: 0 0 0 0;\n",
       "      width: 32px;\n",
       "    }\n",
       "\n",
       "    .colab-df-convert:hover {\n",
       "      background-color: #E2EBFA;\n",
       "      box-shadow: 0px 1px 2px rgba(60, 64, 67, 0.3), 0px 1px 3px 1px rgba(60, 64, 67, 0.15);\n",
       "      fill: #174EA6;\n",
       "    }\n",
       "\n",
       "    [theme=dark] .colab-df-convert {\n",
       "      background-color: #3B4455;\n",
       "      fill: #D2E3FC;\n",
       "    }\n",
       "\n",
       "    [theme=dark] .colab-df-convert:hover {\n",
       "      background-color: #434B5C;\n",
       "      box-shadow: 0px 1px 3px 1px rgba(0, 0, 0, 0.15);\n",
       "      filter: drop-shadow(0px 1px 2px rgba(0, 0, 0, 0.3));\n",
       "      fill: #FFFFFF;\n",
       "    }\n",
       "  </style>\n",
       "\n",
       "      <script>\n",
       "        const buttonEl =\n",
       "          document.querySelector('#df-f69ce03c-2433-40b8-aed8-9ae12a9c80b4 button.colab-df-convert');\n",
       "        buttonEl.style.display =\n",
       "          google.colab.kernel.accessAllowed ? 'block' : 'none';\n",
       "\n",
       "        async function convertToInteractive(key) {\n",
       "          const element = document.querySelector('#df-f69ce03c-2433-40b8-aed8-9ae12a9c80b4');\n",
       "          const dataTable =\n",
       "            await google.colab.kernel.invokeFunction('convertToInteractive',\n",
       "                                                     [key], {});\n",
       "          if (!dataTable) return;\n",
       "\n",
       "          const docLinkHtml = 'Like what you see? Visit the ' +\n",
       "            '<a target=\"_blank\" href=https://colab.research.google.com/notebooks/data_table.ipynb>data table notebook</a>'\n",
       "            + ' to learn more about interactive tables.';\n",
       "          element.innerHTML = '';\n",
       "          dataTable['output_type'] = 'display_data';\n",
       "          await google.colab.output.renderOutput(dataTable, element);\n",
       "          const docLink = document.createElement('div');\n",
       "          docLink.innerHTML = docLinkHtml;\n",
       "          element.appendChild(docLink);\n",
       "        }\n",
       "      </script>\n",
       "    </div>\n",
       "  </div>\n",
       "  "
      ],
      "text/plain": [
       "       nombre  resistencia  ataque  defensa tipo_primario tipo_secundario  \\\n",
       "162  Hoothoot        155.0    67.0     88.0        Normal          Flying   \n",
       "\n",
       "     max_salud  tasa_captura  tasa_escape  peso  altura Legendario  \\\n",
       "162      134.0           0.5         0.15  21.2    0.71        NaN   \n",
       "\n",
       "     generacion  fuerza_combate  \n",
       "162           2             677  "
      ]
     },
     "execution_count": 64,
     "metadata": {},
     "output_type": "execute_result"
    }
   ],
   "source": [
    "data.loc[nulo_legendario]"
   ]
  },
  {
   "cell_type": "code",
   "execution_count": null,
   "id": "8e1SVd7HlAby",
   "metadata": {
    "colab": {
     "base_uri": "https://localhost:8080/"
    },
    "id": "8e1SVd7HlAby",
    "outputId": "a38940b8-37f9-4838-c6b6-dfa25703feb3"
   },
   "outputs": [
    {
     "data": {
      "text/plain": [
       "No    605\n",
       "Sí     38\n",
       "Name: Legendario, dtype: int64"
      ]
     },
     "execution_count": 65,
     "metadata": {},
     "output_type": "execute_result"
    }
   ],
   "source": [
    "data['Legendario'].value_counts()"
   ]
  },
  {
   "cell_type": "code",
   "execution_count": null,
   "id": "v7zOjXKBlJ_4",
   "metadata": {
    "colab": {
     "base_uri": "https://localhost:8080/"
    },
    "id": "v7zOjXKBlJ_4",
    "outputId": "6218686d-d375-4a87-a191-9a2cd277aac1"
   },
   "outputs": [
    {
     "data": {
      "text/plain": [
       "162    NaN\n",
       "Name: Legendario, dtype: object"
      ]
     },
     "execution_count": 66,
     "metadata": {},
     "output_type": "execute_result"
    }
   ],
   "source": [
    "data.loc[nulo_legendario, 'Legendario']"
   ]
  },
  {
   "cell_type": "code",
   "execution_count": null,
   "id": "HcV55JxylR4t",
   "metadata": {
    "id": "HcV55JxylR4t"
   },
   "outputs": [],
   "source": [
    "data.loc[nulo_legendario, 'Legendario'] = 'No'"
   ]
  },
  {
   "cell_type": "code",
   "execution_count": null,
   "id": "RJ7so1CelZC6",
   "metadata": {
    "colab": {
     "base_uri": "https://localhost:8080/",
     "height": 81
    },
    "id": "RJ7so1CelZC6",
    "outputId": "028707bd-1758-43ba-f0b5-7443540bb222"
   },
   "outputs": [
    {
     "data": {
      "text/html": [
       "\n",
       "  <div id=\"df-492adfca-c55b-4da6-9e4d-28bb1fedad2a\">\n",
       "    <div class=\"colab-df-container\">\n",
       "      <div>\n",
       "<style scoped>\n",
       "    .dataframe tbody tr th:only-of-type {\n",
       "        vertical-align: middle;\n",
       "    }\n",
       "\n",
       "    .dataframe tbody tr th {\n",
       "        vertical-align: top;\n",
       "    }\n",
       "\n",
       "    .dataframe thead th {\n",
       "        text-align: right;\n",
       "    }\n",
       "</style>\n",
       "<table border=\"1\" class=\"dataframe\">\n",
       "  <thead>\n",
       "    <tr style=\"text-align: right;\">\n",
       "      <th></th>\n",
       "      <th>nombre</th>\n",
       "      <th>resistencia</th>\n",
       "      <th>ataque</th>\n",
       "      <th>defensa</th>\n",
       "      <th>tipo_primario</th>\n",
       "      <th>tipo_secundario</th>\n",
       "      <th>max_salud</th>\n",
       "      <th>tasa_captura</th>\n",
       "      <th>tasa_escape</th>\n",
       "      <th>peso</th>\n",
       "      <th>altura</th>\n",
       "      <th>Legendario</th>\n",
       "      <th>generacion</th>\n",
       "      <th>fuerza_combate</th>\n",
       "    </tr>\n",
       "  </thead>\n",
       "  <tbody>\n",
       "    <tr>\n",
       "      <th>162</th>\n",
       "      <td>Hoothoot</td>\n",
       "      <td>155.0</td>\n",
       "      <td>67.0</td>\n",
       "      <td>88.0</td>\n",
       "      <td>Normal</td>\n",
       "      <td>Flying</td>\n",
       "      <td>134.0</td>\n",
       "      <td>0.5</td>\n",
       "      <td>0.15</td>\n",
       "      <td>21.2</td>\n",
       "      <td>0.71</td>\n",
       "      <td>No</td>\n",
       "      <td>2</td>\n",
       "      <td>677</td>\n",
       "    </tr>\n",
       "  </tbody>\n",
       "</table>\n",
       "</div>\n",
       "      <button class=\"colab-df-convert\" onclick=\"convertToInteractive('df-492adfca-c55b-4da6-9e4d-28bb1fedad2a')\"\n",
       "              title=\"Convert this dataframe to an interactive table.\"\n",
       "              style=\"display:none;\">\n",
       "        \n",
       "  <svg xmlns=\"http://www.w3.org/2000/svg\" height=\"24px\"viewBox=\"0 0 24 24\"\n",
       "       width=\"24px\">\n",
       "    <path d=\"M0 0h24v24H0V0z\" fill=\"none\"/>\n",
       "    <path d=\"M18.56 5.44l.94 2.06.94-2.06 2.06-.94-2.06-.94-.94-2.06-.94 2.06-2.06.94zm-11 1L8.5 8.5l.94-2.06 2.06-.94-2.06-.94L8.5 2.5l-.94 2.06-2.06.94zm10 10l.94 2.06.94-2.06 2.06-.94-2.06-.94-.94-2.06-.94 2.06-2.06.94z\"/><path d=\"M17.41 7.96l-1.37-1.37c-.4-.4-.92-.59-1.43-.59-.52 0-1.04.2-1.43.59L10.3 9.45l-7.72 7.72c-.78.78-.78 2.05 0 2.83L4 21.41c.39.39.9.59 1.41.59.51 0 1.02-.2 1.41-.59l7.78-7.78 2.81-2.81c.8-.78.8-2.07 0-2.86zM5.41 20L4 18.59l7.72-7.72 1.47 1.35L5.41 20z\"/>\n",
       "  </svg>\n",
       "      </button>\n",
       "      \n",
       "  <style>\n",
       "    .colab-df-container {\n",
       "      display:flex;\n",
       "      flex-wrap:wrap;\n",
       "      gap: 12px;\n",
       "    }\n",
       "\n",
       "    .colab-df-convert {\n",
       "      background-color: #E8F0FE;\n",
       "      border: none;\n",
       "      border-radius: 50%;\n",
       "      cursor: pointer;\n",
       "      display: none;\n",
       "      fill: #1967D2;\n",
       "      height: 32px;\n",
       "      padding: 0 0 0 0;\n",
       "      width: 32px;\n",
       "    }\n",
       "\n",
       "    .colab-df-convert:hover {\n",
       "      background-color: #E2EBFA;\n",
       "      box-shadow: 0px 1px 2px rgba(60, 64, 67, 0.3), 0px 1px 3px 1px rgba(60, 64, 67, 0.15);\n",
       "      fill: #174EA6;\n",
       "    }\n",
       "\n",
       "    [theme=dark] .colab-df-convert {\n",
       "      background-color: #3B4455;\n",
       "      fill: #D2E3FC;\n",
       "    }\n",
       "\n",
       "    [theme=dark] .colab-df-convert:hover {\n",
       "      background-color: #434B5C;\n",
       "      box-shadow: 0px 1px 3px 1px rgba(0, 0, 0, 0.15);\n",
       "      filter: drop-shadow(0px 1px 2px rgba(0, 0, 0, 0.3));\n",
       "      fill: #FFFFFF;\n",
       "    }\n",
       "  </style>\n",
       "\n",
       "      <script>\n",
       "        const buttonEl =\n",
       "          document.querySelector('#df-492adfca-c55b-4da6-9e4d-28bb1fedad2a button.colab-df-convert');\n",
       "        buttonEl.style.display =\n",
       "          google.colab.kernel.accessAllowed ? 'block' : 'none';\n",
       "\n",
       "        async function convertToInteractive(key) {\n",
       "          const element = document.querySelector('#df-492adfca-c55b-4da6-9e4d-28bb1fedad2a');\n",
       "          const dataTable =\n",
       "            await google.colab.kernel.invokeFunction('convertToInteractive',\n",
       "                                                     [key], {});\n",
       "          if (!dataTable) return;\n",
       "\n",
       "          const docLinkHtml = 'Like what you see? Visit the ' +\n",
       "            '<a target=\"_blank\" href=https://colab.research.google.com/notebooks/data_table.ipynb>data table notebook</a>'\n",
       "            + ' to learn more about interactive tables.';\n",
       "          element.innerHTML = '';\n",
       "          dataTable['output_type'] = 'display_data';\n",
       "          await google.colab.output.renderOutput(dataTable, element);\n",
       "          const docLink = document.createElement('div');\n",
       "          docLink.innerHTML = docLinkHtml;\n",
       "          element.appendChild(docLink);\n",
       "        }\n",
       "      </script>\n",
       "    </div>\n",
       "  </div>\n",
       "  "
      ],
      "text/plain": [
       "       nombre  resistencia  ataque  defensa tipo_primario tipo_secundario  \\\n",
       "162  Hoothoot        155.0    67.0     88.0        Normal          Flying   \n",
       "\n",
       "     max_salud  tasa_captura  tasa_escape  peso  altura Legendario  \\\n",
       "162      134.0           0.5         0.15  21.2    0.71         No   \n",
       "\n",
       "     generacion  fuerza_combate  \n",
       "162           2             677  "
      ]
     },
     "execution_count": 68,
     "metadata": {},
     "output_type": "execute_result"
    }
   ],
   "source": [
    "data.loc[nulo_legendario]"
   ]
  },
  {
   "cell_type": "code",
   "execution_count": null,
   "id": "_iGAM2zKljqw",
   "metadata": {
    "colab": {
     "base_uri": "https://localhost:8080/"
    },
    "id": "_iGAM2zKljqw",
    "outputId": "10f152d8-d59a-40dd-ce77-2a9bc584ed3c"
   },
   "outputs": [
    {
     "data": {
      "text/plain": [
       "No    606\n",
       "Sí     38\n",
       "Name: Legendario, dtype: int64"
      ]
     },
     "execution_count": 69,
     "metadata": {},
     "output_type": "execute_result"
    }
   ],
   "source": [
    "data['Legendario'].value_counts()"
   ]
  },
  {
   "cell_type": "code",
   "execution_count": null,
   "id": "mcnVKi2RlpJe",
   "metadata": {
    "colab": {
     "base_uri": "https://localhost:8080/"
    },
    "id": "mcnVKi2RlpJe",
    "outputId": "beeb33df-5ca7-4600-d557-53ddc3d9c6ef"
   },
   "outputs": [
    {
     "data": {
      "text/plain": [
       "nombre             0\n",
       "resistencia        0\n",
       "ataque             0\n",
       "defensa            0\n",
       "tipo_primario      0\n",
       "tipo_secundario    0\n",
       "max_salud          0\n",
       "tasa_captura       0\n",
       "tasa_escape        0\n",
       "peso               0\n",
       "altura             0\n",
       "Legendario         0\n",
       "generacion         0\n",
       "fuerza_combate     0\n",
       "dtype: int64"
      ]
     },
     "execution_count": 70,
     "metadata": {},
     "output_type": "execute_result"
    }
   ],
   "source": [
    "data.isna().sum()"
   ]
  },
  {
   "cell_type": "markdown",
   "id": "careful-fiber",
   "metadata": {
    "id": "careful-fiber"
   },
   "source": [
    "### Variables categóricas y numéricas\n",
    "\n",
    "- Revisar los tipos de datos que tiene cada columna del dataset\n",
    "- En el caso que haya variables categóricas convertirlas en numéricas: en el caso que sean variables categróricas nominales deben ser convertidas en variables dummies, para esto pueden reemplazarse valores con *apply* y *lambda*, creando una función propia o utilizando el método de pandas *get_dummies*."
   ]
  },
  {
   "cell_type": "code",
   "execution_count": null,
   "id": "wpmItNowm4HE",
   "metadata": {
    "colab": {
     "base_uri": "https://localhost:8080/"
    },
    "id": "wpmItNowm4HE",
    "outputId": "1d47ae61-95da-4064-83e2-9763c9b6edc0"
   },
   "outputs": [
    {
     "data": {
      "text/plain": [
       "['nombre',\n",
       " 'resistencia',\n",
       " 'ataque',\n",
       " 'defensa',\n",
       " 'tipo_primario',\n",
       " 'tipo_secundario',\n",
       " 'max_salud',\n",
       " 'tasa_captura',\n",
       " 'tasa_escape',\n",
       " 'peso',\n",
       " 'altura',\n",
       " 'Legendario',\n",
       " 'generacion',\n",
       " 'fuerza_combate']"
      ]
     },
     "execution_count": 71,
     "metadata": {},
     "output_type": "execute_result"
    }
   ],
   "source": [
    "data.columns.to_list()"
   ]
  },
  {
   "cell_type": "code",
   "execution_count": null,
   "id": "Xu4M5Autm6F6",
   "metadata": {
    "colab": {
     "base_uri": "https://localhost:8080/"
    },
    "id": "Xu4M5Autm6F6",
    "outputId": "163a4fb8-c04f-428f-ae88-65aab07f9dc8"
   },
   "outputs": [
    {
     "data": {
      "text/plain": [
       "nombre              object\n",
       "resistencia        float64\n",
       "ataque             float64\n",
       "defensa            float64\n",
       "tipo_primario       object\n",
       "tipo_secundario     object\n",
       "max_salud          float64\n",
       "tasa_captura       float64\n",
       "tasa_escape        float64\n",
       "peso               float64\n",
       "altura             float64\n",
       "Legendario          object\n",
       "generacion           int64\n",
       "fuerza_combate       int64\n",
       "dtype: object"
      ]
     },
     "execution_count": 72,
     "metadata": {},
     "output_type": "execute_result"
    }
   ],
   "source": [
    "data.dtypes"
   ]
  },
  {
   "cell_type": "code",
   "execution_count": null,
   "id": "fyCJ52O1m-Ji",
   "metadata": {
    "colab": {
     "base_uri": "https://localhost:8080/",
     "height": 143
    },
    "id": "fyCJ52O1m-Ji",
    "outputId": "e12a39f8-822a-49b5-f8df-ed739c50a193"
   },
   "outputs": [
    {
     "data": {
      "text/html": [
       "\n",
       "  <div id=\"df-14d4f50c-7365-46fa-b49b-b08ded7b9844\">\n",
       "    <div class=\"colab-df-container\">\n",
       "      <div>\n",
       "<style scoped>\n",
       "    .dataframe tbody tr th:only-of-type {\n",
       "        vertical-align: middle;\n",
       "    }\n",
       "\n",
       "    .dataframe tbody tr th {\n",
       "        vertical-align: top;\n",
       "    }\n",
       "\n",
       "    .dataframe thead th {\n",
       "        text-align: right;\n",
       "    }\n",
       "</style>\n",
       "<table border=\"1\" class=\"dataframe\">\n",
       "  <thead>\n",
       "    <tr style=\"text-align: right;\">\n",
       "      <th></th>\n",
       "      <th>nombre</th>\n",
       "      <th>resistencia</th>\n",
       "      <th>ataque</th>\n",
       "      <th>defensa</th>\n",
       "      <th>tipo_primario</th>\n",
       "      <th>tipo_secundario</th>\n",
       "      <th>max_salud</th>\n",
       "      <th>tasa_captura</th>\n",
       "      <th>tasa_escape</th>\n",
       "      <th>peso</th>\n",
       "      <th>altura</th>\n",
       "      <th>Legendario</th>\n",
       "      <th>generacion</th>\n",
       "      <th>fuerza_combate</th>\n",
       "    </tr>\n",
       "  </thead>\n",
       "  <tbody>\n",
       "    <tr>\n",
       "      <th>0</th>\n",
       "      <td>Bulbasaur</td>\n",
       "      <td>128.0</td>\n",
       "      <td>118.0</td>\n",
       "      <td>111.0</td>\n",
       "      <td>Grass</td>\n",
       "      <td>Poison</td>\n",
       "      <td>113.0</td>\n",
       "      <td>0.20</td>\n",
       "      <td>0.10</td>\n",
       "      <td>6.9</td>\n",
       "      <td>0.7</td>\n",
       "      <td>No</td>\n",
       "      <td>1</td>\n",
       "      <td>1115</td>\n",
       "    </tr>\n",
       "    <tr>\n",
       "      <th>1</th>\n",
       "      <td>Ivysaur</td>\n",
       "      <td>155.0</td>\n",
       "      <td>151.0</td>\n",
       "      <td>143.0</td>\n",
       "      <td>Grass</td>\n",
       "      <td>Poison</td>\n",
       "      <td>134.0</td>\n",
       "      <td>0.10</td>\n",
       "      <td>0.07</td>\n",
       "      <td>13.0</td>\n",
       "      <td>1.0</td>\n",
       "      <td>No</td>\n",
       "      <td>1</td>\n",
       "      <td>1699</td>\n",
       "    </tr>\n",
       "    <tr>\n",
       "      <th>2</th>\n",
       "      <td>Venusaur</td>\n",
       "      <td>190.0</td>\n",
       "      <td>198.0</td>\n",
       "      <td>189.0</td>\n",
       "      <td>Grass</td>\n",
       "      <td>Poison</td>\n",
       "      <td>162.0</td>\n",
       "      <td>0.05</td>\n",
       "      <td>0.05</td>\n",
       "      <td>100.0</td>\n",
       "      <td>2.0</td>\n",
       "      <td>No</td>\n",
       "      <td>1</td>\n",
       "      <td>2720</td>\n",
       "    </tr>\n",
       "  </tbody>\n",
       "</table>\n",
       "</div>\n",
       "      <button class=\"colab-df-convert\" onclick=\"convertToInteractive('df-14d4f50c-7365-46fa-b49b-b08ded7b9844')\"\n",
       "              title=\"Convert this dataframe to an interactive table.\"\n",
       "              style=\"display:none;\">\n",
       "        \n",
       "  <svg xmlns=\"http://www.w3.org/2000/svg\" height=\"24px\"viewBox=\"0 0 24 24\"\n",
       "       width=\"24px\">\n",
       "    <path d=\"M0 0h24v24H0V0z\" fill=\"none\"/>\n",
       "    <path d=\"M18.56 5.44l.94 2.06.94-2.06 2.06-.94-2.06-.94-.94-2.06-.94 2.06-2.06.94zm-11 1L8.5 8.5l.94-2.06 2.06-.94-2.06-.94L8.5 2.5l-.94 2.06-2.06.94zm10 10l.94 2.06.94-2.06 2.06-.94-2.06-.94-.94-2.06-.94 2.06-2.06.94z\"/><path d=\"M17.41 7.96l-1.37-1.37c-.4-.4-.92-.59-1.43-.59-.52 0-1.04.2-1.43.59L10.3 9.45l-7.72 7.72c-.78.78-.78 2.05 0 2.83L4 21.41c.39.39.9.59 1.41.59.51 0 1.02-.2 1.41-.59l7.78-7.78 2.81-2.81c.8-.78.8-2.07 0-2.86zM5.41 20L4 18.59l7.72-7.72 1.47 1.35L5.41 20z\"/>\n",
       "  </svg>\n",
       "      </button>\n",
       "      \n",
       "  <style>\n",
       "    .colab-df-container {\n",
       "      display:flex;\n",
       "      flex-wrap:wrap;\n",
       "      gap: 12px;\n",
       "    }\n",
       "\n",
       "    .colab-df-convert {\n",
       "      background-color: #E8F0FE;\n",
       "      border: none;\n",
       "      border-radius: 50%;\n",
       "      cursor: pointer;\n",
       "      display: none;\n",
       "      fill: #1967D2;\n",
       "      height: 32px;\n",
       "      padding: 0 0 0 0;\n",
       "      width: 32px;\n",
       "    }\n",
       "\n",
       "    .colab-df-convert:hover {\n",
       "      background-color: #E2EBFA;\n",
       "      box-shadow: 0px 1px 2px rgba(60, 64, 67, 0.3), 0px 1px 3px 1px rgba(60, 64, 67, 0.15);\n",
       "      fill: #174EA6;\n",
       "    }\n",
       "\n",
       "    [theme=dark] .colab-df-convert {\n",
       "      background-color: #3B4455;\n",
       "      fill: #D2E3FC;\n",
       "    }\n",
       "\n",
       "    [theme=dark] .colab-df-convert:hover {\n",
       "      background-color: #434B5C;\n",
       "      box-shadow: 0px 1px 3px 1px rgba(0, 0, 0, 0.15);\n",
       "      filter: drop-shadow(0px 1px 2px rgba(0, 0, 0, 0.3));\n",
       "      fill: #FFFFFF;\n",
       "    }\n",
       "  </style>\n",
       "\n",
       "      <script>\n",
       "        const buttonEl =\n",
       "          document.querySelector('#df-14d4f50c-7365-46fa-b49b-b08ded7b9844 button.colab-df-convert');\n",
       "        buttonEl.style.display =\n",
       "          google.colab.kernel.accessAllowed ? 'block' : 'none';\n",
       "\n",
       "        async function convertToInteractive(key) {\n",
       "          const element = document.querySelector('#df-14d4f50c-7365-46fa-b49b-b08ded7b9844');\n",
       "          const dataTable =\n",
       "            await google.colab.kernel.invokeFunction('convertToInteractive',\n",
       "                                                     [key], {});\n",
       "          if (!dataTable) return;\n",
       "\n",
       "          const docLinkHtml = 'Like what you see? Visit the ' +\n",
       "            '<a target=\"_blank\" href=https://colab.research.google.com/notebooks/data_table.ipynb>data table notebook</a>'\n",
       "            + ' to learn more about interactive tables.';\n",
       "          element.innerHTML = '';\n",
       "          dataTable['output_type'] = 'display_data';\n",
       "          await google.colab.output.renderOutput(dataTable, element);\n",
       "          const docLink = document.createElement('div');\n",
       "          docLink.innerHTML = docLinkHtml;\n",
       "          element.appendChild(docLink);\n",
       "        }\n",
       "      </script>\n",
       "    </div>\n",
       "  </div>\n",
       "  "
      ],
      "text/plain": [
       "      nombre  resistencia  ataque  defensa tipo_primario tipo_secundario  \\\n",
       "0  Bulbasaur        128.0   118.0    111.0         Grass          Poison   \n",
       "1    Ivysaur        155.0   151.0    143.0         Grass          Poison   \n",
       "2   Venusaur        190.0   198.0    189.0         Grass          Poison   \n",
       "\n",
       "   max_salud  tasa_captura  tasa_escape   peso  altura Legendario  generacion  \\\n",
       "0      113.0          0.20         0.10    6.9     0.7         No           1   \n",
       "1      134.0          0.10         0.07   13.0     1.0         No           1   \n",
       "2      162.0          0.05         0.05  100.0     2.0         No           1   \n",
       "\n",
       "   fuerza_combate  \n",
       "0            1115  \n",
       "1            1699  \n",
       "2            2720  "
      ]
     },
     "execution_count": 73,
     "metadata": {},
     "output_type": "execute_result"
    }
   ],
   "source": [
    "data.head(3)"
   ]
  },
  {
   "cell_type": "code",
   "execution_count": null,
   "id": "nck2ddZmlW8h",
   "metadata": {
    "colab": {
     "base_uri": "https://localhost:8080/"
    },
    "id": "nck2ddZmlW8h",
    "outputId": "4ab15935-0c46-4678-e3ac-8a4e491d2381"
   },
   "outputs": [
    {
     "name": "stdout",
     "output_type": "stream",
     "text": [
      "['Grass' 'Fire' 'Water' 'Bug' 'Normal' 'Poison' 'Electric' 'Ground'\n",
      " 'Fairy' 'Fighting' 'Psychic' 'Rock' 'Ghost' 'Ice' 'Dragon' 'Dark' 'Steel'\n",
      " 'Flying']\n"
     ]
    },
    {
     "data": {
      "text/plain": [
       "Water       99\n",
       "Normal      89\n",
       "Grass       61\n",
       "Bug         60\n",
       "Psychic     43\n",
       "Fire        39\n",
       "Electric    33\n",
       "Rock        32\n",
       "Ground      30\n",
       "Poison      25\n",
       "Dark        25\n",
       "Fighting    22\n",
       "Ice         21\n",
       "Dragon      20\n",
       "Ghost       19\n",
       "Steel       18\n",
       "Fairy        7\n",
       "Flying       1\n",
       "Name: tipo_primario, dtype: int64"
      ]
     },
     "execution_count": 74,
     "metadata": {},
     "output_type": "execute_result"
    }
   ],
   "source": [
    "print(data[\"tipo_primario\"].unique())\n",
    "data[\"tipo_primario\"].value_counts()"
   ]
  },
  {
   "cell_type": "code",
   "execution_count": null,
   "id": "qHlbRGzIlsoT",
   "metadata": {
    "colab": {
     "base_uri": "https://localhost:8080/",
     "height": 207
    },
    "id": "qHlbRGzIlsoT",
    "outputId": "4bc493e7-cbd1-479b-c412-e301959c1461"
   },
   "outputs": [
    {
     "data": {
      "text/html": [
       "\n",
       "  <div id=\"df-a9c5c5ba-8236-448c-bd9e-17bb4309afdd\">\n",
       "    <div class=\"colab-df-container\">\n",
       "      <div>\n",
       "<style scoped>\n",
       "    .dataframe tbody tr th:only-of-type {\n",
       "        vertical-align: middle;\n",
       "    }\n",
       "\n",
       "    .dataframe tbody tr th {\n",
       "        vertical-align: top;\n",
       "    }\n",
       "\n",
       "    .dataframe thead th {\n",
       "        text-align: right;\n",
       "    }\n",
       "</style>\n",
       "<table border=\"1\" class=\"dataframe\">\n",
       "  <thead>\n",
       "    <tr style=\"text-align: right;\">\n",
       "      <th></th>\n",
       "      <th>tipoPrimario__Bug</th>\n",
       "      <th>tipoPrimario__Dark</th>\n",
       "      <th>tipoPrimario__Dragon</th>\n",
       "      <th>tipoPrimario__Electric</th>\n",
       "      <th>tipoPrimario__Fairy</th>\n",
       "      <th>tipoPrimario__Fighting</th>\n",
       "      <th>tipoPrimario__Fire</th>\n",
       "      <th>tipoPrimario__Flying</th>\n",
       "      <th>tipoPrimario__Ghost</th>\n",
       "      <th>tipoPrimario__Grass</th>\n",
       "      <th>tipoPrimario__Ground</th>\n",
       "      <th>tipoPrimario__Ice</th>\n",
       "      <th>tipoPrimario__Normal</th>\n",
       "      <th>tipoPrimario__Poison</th>\n",
       "      <th>tipoPrimario__Psychic</th>\n",
       "      <th>tipoPrimario__Rock</th>\n",
       "      <th>tipoPrimario__Steel</th>\n",
       "      <th>tipoPrimario__Water</th>\n",
       "    </tr>\n",
       "  </thead>\n",
       "  <tbody>\n",
       "    <tr>\n",
       "      <th>0</th>\n",
       "      <td>0</td>\n",
       "      <td>0</td>\n",
       "      <td>0</td>\n",
       "      <td>0</td>\n",
       "      <td>0</td>\n",
       "      <td>0</td>\n",
       "      <td>0</td>\n",
       "      <td>0</td>\n",
       "      <td>0</td>\n",
       "      <td>1</td>\n",
       "      <td>0</td>\n",
       "      <td>0</td>\n",
       "      <td>0</td>\n",
       "      <td>0</td>\n",
       "      <td>0</td>\n",
       "      <td>0</td>\n",
       "      <td>0</td>\n",
       "      <td>0</td>\n",
       "    </tr>\n",
       "    <tr>\n",
       "      <th>1</th>\n",
       "      <td>0</td>\n",
       "      <td>0</td>\n",
       "      <td>0</td>\n",
       "      <td>0</td>\n",
       "      <td>0</td>\n",
       "      <td>0</td>\n",
       "      <td>0</td>\n",
       "      <td>0</td>\n",
       "      <td>0</td>\n",
       "      <td>1</td>\n",
       "      <td>0</td>\n",
       "      <td>0</td>\n",
       "      <td>0</td>\n",
       "      <td>0</td>\n",
       "      <td>0</td>\n",
       "      <td>0</td>\n",
       "      <td>0</td>\n",
       "      <td>0</td>\n",
       "    </tr>\n",
       "    <tr>\n",
       "      <th>2</th>\n",
       "      <td>0</td>\n",
       "      <td>0</td>\n",
       "      <td>0</td>\n",
       "      <td>0</td>\n",
       "      <td>0</td>\n",
       "      <td>0</td>\n",
       "      <td>0</td>\n",
       "      <td>0</td>\n",
       "      <td>0</td>\n",
       "      <td>1</td>\n",
       "      <td>0</td>\n",
       "      <td>0</td>\n",
       "      <td>0</td>\n",
       "      <td>0</td>\n",
       "      <td>0</td>\n",
       "      <td>0</td>\n",
       "      <td>0</td>\n",
       "      <td>0</td>\n",
       "    </tr>\n",
       "  </tbody>\n",
       "</table>\n",
       "</div>\n",
       "      <button class=\"colab-df-convert\" onclick=\"convertToInteractive('df-a9c5c5ba-8236-448c-bd9e-17bb4309afdd')\"\n",
       "              title=\"Convert this dataframe to an interactive table.\"\n",
       "              style=\"display:none;\">\n",
       "        \n",
       "  <svg xmlns=\"http://www.w3.org/2000/svg\" height=\"24px\"viewBox=\"0 0 24 24\"\n",
       "       width=\"24px\">\n",
       "    <path d=\"M0 0h24v24H0V0z\" fill=\"none\"/>\n",
       "    <path d=\"M18.56 5.44l.94 2.06.94-2.06 2.06-.94-2.06-.94-.94-2.06-.94 2.06-2.06.94zm-11 1L8.5 8.5l.94-2.06 2.06-.94-2.06-.94L8.5 2.5l-.94 2.06-2.06.94zm10 10l.94 2.06.94-2.06 2.06-.94-2.06-.94-.94-2.06-.94 2.06-2.06.94z\"/><path d=\"M17.41 7.96l-1.37-1.37c-.4-.4-.92-.59-1.43-.59-.52 0-1.04.2-1.43.59L10.3 9.45l-7.72 7.72c-.78.78-.78 2.05 0 2.83L4 21.41c.39.39.9.59 1.41.59.51 0 1.02-.2 1.41-.59l7.78-7.78 2.81-2.81c.8-.78.8-2.07 0-2.86zM5.41 20L4 18.59l7.72-7.72 1.47 1.35L5.41 20z\"/>\n",
       "  </svg>\n",
       "      </button>\n",
       "      \n",
       "  <style>\n",
       "    .colab-df-container {\n",
       "      display:flex;\n",
       "      flex-wrap:wrap;\n",
       "      gap: 12px;\n",
       "    }\n",
       "\n",
       "    .colab-df-convert {\n",
       "      background-color: #E8F0FE;\n",
       "      border: none;\n",
       "      border-radius: 50%;\n",
       "      cursor: pointer;\n",
       "      display: none;\n",
       "      fill: #1967D2;\n",
       "      height: 32px;\n",
       "      padding: 0 0 0 0;\n",
       "      width: 32px;\n",
       "    }\n",
       "\n",
       "    .colab-df-convert:hover {\n",
       "      background-color: #E2EBFA;\n",
       "      box-shadow: 0px 1px 2px rgba(60, 64, 67, 0.3), 0px 1px 3px 1px rgba(60, 64, 67, 0.15);\n",
       "      fill: #174EA6;\n",
       "    }\n",
       "\n",
       "    [theme=dark] .colab-df-convert {\n",
       "      background-color: #3B4455;\n",
       "      fill: #D2E3FC;\n",
       "    }\n",
       "\n",
       "    [theme=dark] .colab-df-convert:hover {\n",
       "      background-color: #434B5C;\n",
       "      box-shadow: 0px 1px 3px 1px rgba(0, 0, 0, 0.15);\n",
       "      filter: drop-shadow(0px 1px 2px rgba(0, 0, 0, 0.3));\n",
       "      fill: #FFFFFF;\n",
       "    }\n",
       "  </style>\n",
       "\n",
       "      <script>\n",
       "        const buttonEl =\n",
       "          document.querySelector('#df-a9c5c5ba-8236-448c-bd9e-17bb4309afdd button.colab-df-convert');\n",
       "        buttonEl.style.display =\n",
       "          google.colab.kernel.accessAllowed ? 'block' : 'none';\n",
       "\n",
       "        async function convertToInteractive(key) {\n",
       "          const element = document.querySelector('#df-a9c5c5ba-8236-448c-bd9e-17bb4309afdd');\n",
       "          const dataTable =\n",
       "            await google.colab.kernel.invokeFunction('convertToInteractive',\n",
       "                                                     [key], {});\n",
       "          if (!dataTable) return;\n",
       "\n",
       "          const docLinkHtml = 'Like what you see? Visit the ' +\n",
       "            '<a target=\"_blank\" href=https://colab.research.google.com/notebooks/data_table.ipynb>data table notebook</a>'\n",
       "            + ' to learn more about interactive tables.';\n",
       "          element.innerHTML = '';\n",
       "          dataTable['output_type'] = 'display_data';\n",
       "          await google.colab.output.renderOutput(dataTable, element);\n",
       "          const docLink = document.createElement('div');\n",
       "          docLink.innerHTML = docLinkHtml;\n",
       "          element.appendChild(docLink);\n",
       "        }\n",
       "      </script>\n",
       "    </div>\n",
       "  </div>\n",
       "  "
      ],
      "text/plain": [
       "   tipoPrimario__Bug  tipoPrimario__Dark  tipoPrimario__Dragon  \\\n",
       "0                  0                   0                     0   \n",
       "1                  0                   0                     0   \n",
       "2                  0                   0                     0   \n",
       "\n",
       "   tipoPrimario__Electric  tipoPrimario__Fairy  tipoPrimario__Fighting  \\\n",
       "0                       0                    0                       0   \n",
       "1                       0                    0                       0   \n",
       "2                       0                    0                       0   \n",
       "\n",
       "   tipoPrimario__Fire  tipoPrimario__Flying  tipoPrimario__Ghost  \\\n",
       "0                   0                     0                    0   \n",
       "1                   0                     0                    0   \n",
       "2                   0                     0                    0   \n",
       "\n",
       "   tipoPrimario__Grass  tipoPrimario__Ground  tipoPrimario__Ice  \\\n",
       "0                    1                     0                  0   \n",
       "1                    1                     0                  0   \n",
       "2                    1                     0                  0   \n",
       "\n",
       "   tipoPrimario__Normal  tipoPrimario__Poison  tipoPrimario__Psychic  \\\n",
       "0                     0                     0                      0   \n",
       "1                     0                     0                      0   \n",
       "2                     0                     0                      0   \n",
       "\n",
       "   tipoPrimario__Rock  tipoPrimario__Steel  tipoPrimario__Water  \n",
       "0                   0                    0                    0  \n",
       "1                   0                    0                    0  \n",
       "2                   0                    0                    0  "
      ]
     },
     "execution_count": 75,
     "metadata": {},
     "output_type": "execute_result"
    }
   ],
   "source": [
    "dummies_tipoPrimario = pd.get_dummies(data['tipo_primario'], prefix='tipoPrimario_')\n",
    "dummies_tipoPrimario.head(3)"
   ]
  },
  {
   "cell_type": "code",
   "execution_count": null,
   "id": "LXQZNRtxmj6K",
   "metadata": {
    "id": "LXQZNRtxmj6K"
   },
   "outputs": [],
   "source": [
    "data=data.join(dummies_tipoPrimario)"
   ]
  },
  {
   "cell_type": "code",
   "execution_count": null,
   "id": "DKdvzpe_m0Yv",
   "metadata": {
    "colab": {
     "base_uri": "https://localhost:8080/",
     "height": 299
    },
    "id": "DKdvzpe_m0Yv",
    "outputId": "63d0f090-fba3-4774-936b-25b9418df735"
   },
   "outputs": [
    {
     "data": {
      "text/html": [
       "\n",
       "  <div id=\"df-09836c57-b4d5-46a6-88cd-141c88ec1ed7\">\n",
       "    <div class=\"colab-df-container\">\n",
       "      <div>\n",
       "<style scoped>\n",
       "    .dataframe tbody tr th:only-of-type {\n",
       "        vertical-align: middle;\n",
       "    }\n",
       "\n",
       "    .dataframe tbody tr th {\n",
       "        vertical-align: top;\n",
       "    }\n",
       "\n",
       "    .dataframe thead th {\n",
       "        text-align: right;\n",
       "    }\n",
       "</style>\n",
       "<table border=\"1\" class=\"dataframe\">\n",
       "  <thead>\n",
       "    <tr style=\"text-align: right;\">\n",
       "      <th></th>\n",
       "      <th>nombre</th>\n",
       "      <th>resistencia</th>\n",
       "      <th>ataque</th>\n",
       "      <th>defensa</th>\n",
       "      <th>tipo_primario</th>\n",
       "      <th>tipo_secundario</th>\n",
       "      <th>max_salud</th>\n",
       "      <th>tasa_captura</th>\n",
       "      <th>tasa_escape</th>\n",
       "      <th>peso</th>\n",
       "      <th>...</th>\n",
       "      <th>tipoPrimario__Ghost</th>\n",
       "      <th>tipoPrimario__Grass</th>\n",
       "      <th>tipoPrimario__Ground</th>\n",
       "      <th>tipoPrimario__Ice</th>\n",
       "      <th>tipoPrimario__Normal</th>\n",
       "      <th>tipoPrimario__Poison</th>\n",
       "      <th>tipoPrimario__Psychic</th>\n",
       "      <th>tipoPrimario__Rock</th>\n",
       "      <th>tipoPrimario__Steel</th>\n",
       "      <th>tipoPrimario__Water</th>\n",
       "    </tr>\n",
       "  </thead>\n",
       "  <tbody>\n",
       "    <tr>\n",
       "      <th>82</th>\n",
       "      <td>Farfetch'd</td>\n",
       "      <td>141.0</td>\n",
       "      <td>124.0</td>\n",
       "      <td>115.0</td>\n",
       "      <td>Normal</td>\n",
       "      <td>Flying</td>\n",
       "      <td>123.0</td>\n",
       "      <td>0.30</td>\n",
       "      <td>0.09</td>\n",
       "      <td>15.0</td>\n",
       "      <td>...</td>\n",
       "      <td>0</td>\n",
       "      <td>0</td>\n",
       "      <td>0</td>\n",
       "      <td>0</td>\n",
       "      <td>1</td>\n",
       "      <td>0</td>\n",
       "      <td>0</td>\n",
       "      <td>0</td>\n",
       "      <td>0</td>\n",
       "      <td>0</td>\n",
       "    </tr>\n",
       "    <tr>\n",
       "      <th>334</th>\n",
       "      <td>Zangoose</td>\n",
       "      <td>177.0</td>\n",
       "      <td>222.0</td>\n",
       "      <td>124.0</td>\n",
       "      <td>Normal</td>\n",
       "      <td>None</td>\n",
       "      <td>151.0</td>\n",
       "      <td>0.30</td>\n",
       "      <td>0.09</td>\n",
       "      <td>40.3</td>\n",
       "      <td>...</td>\n",
       "      <td>0</td>\n",
       "      <td>0</td>\n",
       "      <td>0</td>\n",
       "      <td>0</td>\n",
       "      <td>1</td>\n",
       "      <td>0</td>\n",
       "      <td>0</td>\n",
       "      <td>0</td>\n",
       "      <td>0</td>\n",
       "      <td>0</td>\n",
       "    </tr>\n",
       "    <tr>\n",
       "      <th>462</th>\n",
       "      <td>Lickilicky</td>\n",
       "      <td>242.0</td>\n",
       "      <td>161.0</td>\n",
       "      <td>181.0</td>\n",
       "      <td>Normal</td>\n",
       "      <td>None</td>\n",
       "      <td>203.0</td>\n",
       "      <td>0.15</td>\n",
       "      <td>0.09</td>\n",
       "      <td>140.0</td>\n",
       "      <td>...</td>\n",
       "      <td>0</td>\n",
       "      <td>0</td>\n",
       "      <td>0</td>\n",
       "      <td>0</td>\n",
       "      <td>1</td>\n",
       "      <td>0</td>\n",
       "      <td>0</td>\n",
       "      <td>0</td>\n",
       "      <td>0</td>\n",
       "      <td>0</td>\n",
       "    </tr>\n",
       "    <tr>\n",
       "      <th>566</th>\n",
       "      <td>Archeops</td>\n",
       "      <td>181.0</td>\n",
       "      <td>292.0</td>\n",
       "      <td>139.0</td>\n",
       "      <td>Rock</td>\n",
       "      <td>Flying</td>\n",
       "      <td>154.0</td>\n",
       "      <td>0.10</td>\n",
       "      <td>0.07</td>\n",
       "      <td>32.0</td>\n",
       "      <td>...</td>\n",
       "      <td>0</td>\n",
       "      <td>0</td>\n",
       "      <td>0</td>\n",
       "      <td>0</td>\n",
       "      <td>0</td>\n",
       "      <td>0</td>\n",
       "      <td>0</td>\n",
       "      <td>1</td>\n",
       "      <td>0</td>\n",
       "      <td>0</td>\n",
       "    </tr>\n",
       "    <tr>\n",
       "      <th>214</th>\n",
       "      <td>Sneasel</td>\n",
       "      <td>146.0</td>\n",
       "      <td>189.0</td>\n",
       "      <td>146.0</td>\n",
       "      <td>Dark</td>\n",
       "      <td>Ice</td>\n",
       "      <td>127.0</td>\n",
       "      <td>0.20</td>\n",
       "      <td>0.07</td>\n",
       "      <td>28.0</td>\n",
       "      <td>...</td>\n",
       "      <td>0</td>\n",
       "      <td>0</td>\n",
       "      <td>0</td>\n",
       "      <td>0</td>\n",
       "      <td>0</td>\n",
       "      <td>0</td>\n",
       "      <td>0</td>\n",
       "      <td>0</td>\n",
       "      <td>0</td>\n",
       "      <td>0</td>\n",
       "    </tr>\n",
       "  </tbody>\n",
       "</table>\n",
       "<p>5 rows × 32 columns</p>\n",
       "</div>\n",
       "      <button class=\"colab-df-convert\" onclick=\"convertToInteractive('df-09836c57-b4d5-46a6-88cd-141c88ec1ed7')\"\n",
       "              title=\"Convert this dataframe to an interactive table.\"\n",
       "              style=\"display:none;\">\n",
       "        \n",
       "  <svg xmlns=\"http://www.w3.org/2000/svg\" height=\"24px\"viewBox=\"0 0 24 24\"\n",
       "       width=\"24px\">\n",
       "    <path d=\"M0 0h24v24H0V0z\" fill=\"none\"/>\n",
       "    <path d=\"M18.56 5.44l.94 2.06.94-2.06 2.06-.94-2.06-.94-.94-2.06-.94 2.06-2.06.94zm-11 1L8.5 8.5l.94-2.06 2.06-.94-2.06-.94L8.5 2.5l-.94 2.06-2.06.94zm10 10l.94 2.06.94-2.06 2.06-.94-2.06-.94-.94-2.06-.94 2.06-2.06.94z\"/><path d=\"M17.41 7.96l-1.37-1.37c-.4-.4-.92-.59-1.43-.59-.52 0-1.04.2-1.43.59L10.3 9.45l-7.72 7.72c-.78.78-.78 2.05 0 2.83L4 21.41c.39.39.9.59 1.41.59.51 0 1.02-.2 1.41-.59l7.78-7.78 2.81-2.81c.8-.78.8-2.07 0-2.86zM5.41 20L4 18.59l7.72-7.72 1.47 1.35L5.41 20z\"/>\n",
       "  </svg>\n",
       "      </button>\n",
       "      \n",
       "  <style>\n",
       "    .colab-df-container {\n",
       "      display:flex;\n",
       "      flex-wrap:wrap;\n",
       "      gap: 12px;\n",
       "    }\n",
       "\n",
       "    .colab-df-convert {\n",
       "      background-color: #E8F0FE;\n",
       "      border: none;\n",
       "      border-radius: 50%;\n",
       "      cursor: pointer;\n",
       "      display: none;\n",
       "      fill: #1967D2;\n",
       "      height: 32px;\n",
       "      padding: 0 0 0 0;\n",
       "      width: 32px;\n",
       "    }\n",
       "\n",
       "    .colab-df-convert:hover {\n",
       "      background-color: #E2EBFA;\n",
       "      box-shadow: 0px 1px 2px rgba(60, 64, 67, 0.3), 0px 1px 3px 1px rgba(60, 64, 67, 0.15);\n",
       "      fill: #174EA6;\n",
       "    }\n",
       "\n",
       "    [theme=dark] .colab-df-convert {\n",
       "      background-color: #3B4455;\n",
       "      fill: #D2E3FC;\n",
       "    }\n",
       "\n",
       "    [theme=dark] .colab-df-convert:hover {\n",
       "      background-color: #434B5C;\n",
       "      box-shadow: 0px 1px 3px 1px rgba(0, 0, 0, 0.15);\n",
       "      filter: drop-shadow(0px 1px 2px rgba(0, 0, 0, 0.3));\n",
       "      fill: #FFFFFF;\n",
       "    }\n",
       "  </style>\n",
       "\n",
       "      <script>\n",
       "        const buttonEl =\n",
       "          document.querySelector('#df-09836c57-b4d5-46a6-88cd-141c88ec1ed7 button.colab-df-convert');\n",
       "        buttonEl.style.display =\n",
       "          google.colab.kernel.accessAllowed ? 'block' : 'none';\n",
       "\n",
       "        async function convertToInteractive(key) {\n",
       "          const element = document.querySelector('#df-09836c57-b4d5-46a6-88cd-141c88ec1ed7');\n",
       "          const dataTable =\n",
       "            await google.colab.kernel.invokeFunction('convertToInteractive',\n",
       "                                                     [key], {});\n",
       "          if (!dataTable) return;\n",
       "\n",
       "          const docLinkHtml = 'Like what you see? Visit the ' +\n",
       "            '<a target=\"_blank\" href=https://colab.research.google.com/notebooks/data_table.ipynb>data table notebook</a>'\n",
       "            + ' to learn more about interactive tables.';\n",
       "          element.innerHTML = '';\n",
       "          dataTable['output_type'] = 'display_data';\n",
       "          await google.colab.output.renderOutput(dataTable, element);\n",
       "          const docLink = document.createElement('div');\n",
       "          docLink.innerHTML = docLinkHtml;\n",
       "          element.appendChild(docLink);\n",
       "        }\n",
       "      </script>\n",
       "    </div>\n",
       "  </div>\n",
       "  "
      ],
      "text/plain": [
       "         nombre  resistencia  ataque  defensa tipo_primario tipo_secundario  \\\n",
       "82   Farfetch'd        141.0   124.0    115.0        Normal          Flying   \n",
       "334    Zangoose        177.0   222.0    124.0        Normal            None   \n",
       "462  Lickilicky        242.0   161.0    181.0        Normal            None   \n",
       "566    Archeops        181.0   292.0    139.0          Rock          Flying   \n",
       "214     Sneasel        146.0   189.0    146.0          Dark             Ice   \n",
       "\n",
       "     max_salud  tasa_captura  tasa_escape   peso  ...  tipoPrimario__Ghost  \\\n",
       "82       123.0          0.30         0.09   15.0  ...                    0   \n",
       "334      151.0          0.30         0.09   40.3  ...                    0   \n",
       "462      203.0          0.15         0.09  140.0  ...                    0   \n",
       "566      154.0          0.10         0.07   32.0  ...                    0   \n",
       "214      127.0          0.20         0.07   28.0  ...                    0   \n",
       "\n",
       "    tipoPrimario__Grass  tipoPrimario__Ground  tipoPrimario__Ice  \\\n",
       "82                    0                     0                  0   \n",
       "334                   0                     0                  0   \n",
       "462                   0                     0                  0   \n",
       "566                   0                     0                  0   \n",
       "214                   0                     0                  0   \n",
       "\n",
       "     tipoPrimario__Normal  tipoPrimario__Poison  tipoPrimario__Psychic  \\\n",
       "82                      1                     0                      0   \n",
       "334                     1                     0                      0   \n",
       "462                     1                     0                      0   \n",
       "566                     0                     0                      0   \n",
       "214                     0                     0                      0   \n",
       "\n",
       "     tipoPrimario__Rock  tipoPrimario__Steel  tipoPrimario__Water  \n",
       "82                    0                    0                    0  \n",
       "334                   0                    0                    0  \n",
       "462                   0                    0                    0  \n",
       "566                   1                    0                    0  \n",
       "214                   0                    0                    0  \n",
       "\n",
       "[5 rows x 32 columns]"
      ]
     },
     "execution_count": 77,
     "metadata": {},
     "output_type": "execute_result"
    }
   ],
   "source": [
    "data.sample(5)"
   ]
  },
  {
   "cell_type": "code",
   "execution_count": null,
   "id": "P04ESnmCnn9s",
   "metadata": {
    "id": "P04ESnmCnn9s"
   },
   "outputs": [],
   "source": [
    "data.drop(columns='tipo_primario', inplace=True)"
   ]
  },
  {
   "cell_type": "code",
   "execution_count": null,
   "id": "7T5_INX-qgRZ",
   "metadata": {
    "colab": {
     "base_uri": "https://localhost:8080/"
    },
    "id": "7T5_INX-qgRZ",
    "outputId": "71055a6d-d737-4ef4-d6fc-9ea41498ea60"
   },
   "outputs": [
    {
     "data": {
      "text/plain": [
       "array(['No', 'Sí'], dtype=object)"
      ]
     },
     "execution_count": 79,
     "metadata": {},
     "output_type": "execute_result"
    }
   ],
   "source": [
    "data['Legendario'].unique()"
   ]
  },
  {
   "cell_type": "code",
   "execution_count": null,
   "id": "TskIYg6oqrdZ",
   "metadata": {
    "colab": {
     "base_uri": "https://localhost:8080/"
    },
    "id": "TskIYg6oqrdZ",
    "outputId": "cc2067a3-5a6a-43c5-fef1-15289e257a85"
   },
   "outputs": [
    {
     "data": {
      "text/plain": [
       "No    606\n",
       "Sí     38\n",
       "Name: Legendario, dtype: int64"
      ]
     },
     "execution_count": 80,
     "metadata": {},
     "output_type": "execute_result"
    }
   ],
   "source": [
    "data['Legendario'].value_counts()"
   ]
  },
  {
   "cell_type": "code",
   "execution_count": null,
   "id": "3Z1VCO4xq2tV",
   "metadata": {
    "colab": {
     "base_uri": "https://localhost:8080/"
    },
    "id": "3Z1VCO4xq2tV",
    "outputId": "3c341e87-2211-40d3-9421-ffbf3e939545"
   },
   "outputs": [
    {
     "data": {
      "text/plain": [
       "0      0\n",
       "1      0\n",
       "2      0\n",
       "3      0\n",
       "4      0\n",
       "      ..\n",
       "644    1\n",
       "645    1\n",
       "646    0\n",
       "647    0\n",
       "648    0\n",
       "Name: Legendario, Length: 644, dtype: int64"
      ]
     },
     "execution_count": 81,
     "metadata": {},
     "output_type": "execute_result"
    }
   ],
   "source": [
    "data['Legendario'] = data['Legendario'].apply(lambda x: 1 if x=='Sí' else 0)\n",
    "data['Legendario']"
   ]
  },
  {
   "cell_type": "code",
   "execution_count": null,
   "id": "EUB-yxaurVOG",
   "metadata": {
    "colab": {
     "base_uri": "https://localhost:8080/"
    },
    "id": "EUB-yxaurVOG",
    "outputId": "99525408-4a93-4568-f02c-cd906712cda4"
   },
   "outputs": [
    {
     "name": "stdout",
     "output_type": "stream",
     "text": [
      "[0 1]\n"
     ]
    },
    {
     "data": {
      "text/plain": [
       "0    606\n",
       "1     38\n",
       "Name: Legendario, dtype: int64"
      ]
     },
     "execution_count": 82,
     "metadata": {},
     "output_type": "execute_result"
    }
   ],
   "source": [
    "print(data['Legendario'].unique())\n",
    "data['Legendario'].value_counts()"
   ]
  },
  {
   "cell_type": "code",
   "execution_count": null,
   "id": "Orj_AMAvsiIl",
   "metadata": {
    "colab": {
     "base_uri": "https://localhost:8080/",
     "height": 237
    },
    "id": "Orj_AMAvsiIl",
    "outputId": "3a662fbb-4a05-40bb-eaae-d6898f5da117"
   },
   "outputs": [
    {
     "data": {
      "text/html": [
       "\n",
       "  <div id=\"df-871cd693-aa03-4730-9899-5fd645cc881e\">\n",
       "    <div class=\"colab-df-container\">\n",
       "      <div>\n",
       "<style scoped>\n",
       "    .dataframe tbody tr th:only-of-type {\n",
       "        vertical-align: middle;\n",
       "    }\n",
       "\n",
       "    .dataframe tbody tr th {\n",
       "        vertical-align: top;\n",
       "    }\n",
       "\n",
       "    .dataframe thead th {\n",
       "        text-align: right;\n",
       "    }\n",
       "</style>\n",
       "<table border=\"1\" class=\"dataframe\">\n",
       "  <thead>\n",
       "    <tr style=\"text-align: right;\">\n",
       "      <th></th>\n",
       "      <th>nombre</th>\n",
       "      <th>resistencia</th>\n",
       "      <th>ataque</th>\n",
       "      <th>defensa</th>\n",
       "      <th>tipo_secundario</th>\n",
       "      <th>max_salud</th>\n",
       "      <th>tasa_captura</th>\n",
       "      <th>tasa_escape</th>\n",
       "      <th>peso</th>\n",
       "      <th>altura</th>\n",
       "      <th>...</th>\n",
       "      <th>tipoPrimario__Ghost</th>\n",
       "      <th>tipoPrimario__Grass</th>\n",
       "      <th>tipoPrimario__Ground</th>\n",
       "      <th>tipoPrimario__Ice</th>\n",
       "      <th>tipoPrimario__Normal</th>\n",
       "      <th>tipoPrimario__Poison</th>\n",
       "      <th>tipoPrimario__Psychic</th>\n",
       "      <th>tipoPrimario__Rock</th>\n",
       "      <th>tipoPrimario__Steel</th>\n",
       "      <th>tipoPrimario__Water</th>\n",
       "    </tr>\n",
       "  </thead>\n",
       "  <tbody>\n",
       "    <tr>\n",
       "      <th>0</th>\n",
       "      <td>Bulbasaur</td>\n",
       "      <td>128.0</td>\n",
       "      <td>118.0</td>\n",
       "      <td>111.0</td>\n",
       "      <td>Poison</td>\n",
       "      <td>113.0</td>\n",
       "      <td>0.20</td>\n",
       "      <td>0.10</td>\n",
       "      <td>6.9</td>\n",
       "      <td>0.7</td>\n",
       "      <td>...</td>\n",
       "      <td>0</td>\n",
       "      <td>1</td>\n",
       "      <td>0</td>\n",
       "      <td>0</td>\n",
       "      <td>0</td>\n",
       "      <td>0</td>\n",
       "      <td>0</td>\n",
       "      <td>0</td>\n",
       "      <td>0</td>\n",
       "      <td>0</td>\n",
       "    </tr>\n",
       "    <tr>\n",
       "      <th>1</th>\n",
       "      <td>Ivysaur</td>\n",
       "      <td>155.0</td>\n",
       "      <td>151.0</td>\n",
       "      <td>143.0</td>\n",
       "      <td>Poison</td>\n",
       "      <td>134.0</td>\n",
       "      <td>0.10</td>\n",
       "      <td>0.07</td>\n",
       "      <td>13.0</td>\n",
       "      <td>1.0</td>\n",
       "      <td>...</td>\n",
       "      <td>0</td>\n",
       "      <td>1</td>\n",
       "      <td>0</td>\n",
       "      <td>0</td>\n",
       "      <td>0</td>\n",
       "      <td>0</td>\n",
       "      <td>0</td>\n",
       "      <td>0</td>\n",
       "      <td>0</td>\n",
       "      <td>0</td>\n",
       "    </tr>\n",
       "    <tr>\n",
       "      <th>2</th>\n",
       "      <td>Venusaur</td>\n",
       "      <td>190.0</td>\n",
       "      <td>198.0</td>\n",
       "      <td>189.0</td>\n",
       "      <td>Poison</td>\n",
       "      <td>162.0</td>\n",
       "      <td>0.05</td>\n",
       "      <td>0.05</td>\n",
       "      <td>100.0</td>\n",
       "      <td>2.0</td>\n",
       "      <td>...</td>\n",
       "      <td>0</td>\n",
       "      <td>1</td>\n",
       "      <td>0</td>\n",
       "      <td>0</td>\n",
       "      <td>0</td>\n",
       "      <td>0</td>\n",
       "      <td>0</td>\n",
       "      <td>0</td>\n",
       "      <td>0</td>\n",
       "      <td>0</td>\n",
       "    </tr>\n",
       "  </tbody>\n",
       "</table>\n",
       "<p>3 rows × 31 columns</p>\n",
       "</div>\n",
       "      <button class=\"colab-df-convert\" onclick=\"convertToInteractive('df-871cd693-aa03-4730-9899-5fd645cc881e')\"\n",
       "              title=\"Convert this dataframe to an interactive table.\"\n",
       "              style=\"display:none;\">\n",
       "        \n",
       "  <svg xmlns=\"http://www.w3.org/2000/svg\" height=\"24px\"viewBox=\"0 0 24 24\"\n",
       "       width=\"24px\">\n",
       "    <path d=\"M0 0h24v24H0V0z\" fill=\"none\"/>\n",
       "    <path d=\"M18.56 5.44l.94 2.06.94-2.06 2.06-.94-2.06-.94-.94-2.06-.94 2.06-2.06.94zm-11 1L8.5 8.5l.94-2.06 2.06-.94-2.06-.94L8.5 2.5l-.94 2.06-2.06.94zm10 10l.94 2.06.94-2.06 2.06-.94-2.06-.94-.94-2.06-.94 2.06-2.06.94z\"/><path d=\"M17.41 7.96l-1.37-1.37c-.4-.4-.92-.59-1.43-.59-.52 0-1.04.2-1.43.59L10.3 9.45l-7.72 7.72c-.78.78-.78 2.05 0 2.83L4 21.41c.39.39.9.59 1.41.59.51 0 1.02-.2 1.41-.59l7.78-7.78 2.81-2.81c.8-.78.8-2.07 0-2.86zM5.41 20L4 18.59l7.72-7.72 1.47 1.35L5.41 20z\"/>\n",
       "  </svg>\n",
       "      </button>\n",
       "      \n",
       "  <style>\n",
       "    .colab-df-container {\n",
       "      display:flex;\n",
       "      flex-wrap:wrap;\n",
       "      gap: 12px;\n",
       "    }\n",
       "\n",
       "    .colab-df-convert {\n",
       "      background-color: #E8F0FE;\n",
       "      border: none;\n",
       "      border-radius: 50%;\n",
       "      cursor: pointer;\n",
       "      display: none;\n",
       "      fill: #1967D2;\n",
       "      height: 32px;\n",
       "      padding: 0 0 0 0;\n",
       "      width: 32px;\n",
       "    }\n",
       "\n",
       "    .colab-df-convert:hover {\n",
       "      background-color: #E2EBFA;\n",
       "      box-shadow: 0px 1px 2px rgba(60, 64, 67, 0.3), 0px 1px 3px 1px rgba(60, 64, 67, 0.15);\n",
       "      fill: #174EA6;\n",
       "    }\n",
       "\n",
       "    [theme=dark] .colab-df-convert {\n",
       "      background-color: #3B4455;\n",
       "      fill: #D2E3FC;\n",
       "    }\n",
       "\n",
       "    [theme=dark] .colab-df-convert:hover {\n",
       "      background-color: #434B5C;\n",
       "      box-shadow: 0px 1px 3px 1px rgba(0, 0, 0, 0.15);\n",
       "      filter: drop-shadow(0px 1px 2px rgba(0, 0, 0, 0.3));\n",
       "      fill: #FFFFFF;\n",
       "    }\n",
       "  </style>\n",
       "\n",
       "      <script>\n",
       "        const buttonEl =\n",
       "          document.querySelector('#df-871cd693-aa03-4730-9899-5fd645cc881e button.colab-df-convert');\n",
       "        buttonEl.style.display =\n",
       "          google.colab.kernel.accessAllowed ? 'block' : 'none';\n",
       "\n",
       "        async function convertToInteractive(key) {\n",
       "          const element = document.querySelector('#df-871cd693-aa03-4730-9899-5fd645cc881e');\n",
       "          const dataTable =\n",
       "            await google.colab.kernel.invokeFunction('convertToInteractive',\n",
       "                                                     [key], {});\n",
       "          if (!dataTable) return;\n",
       "\n",
       "          const docLinkHtml = 'Like what you see? Visit the ' +\n",
       "            '<a target=\"_blank\" href=https://colab.research.google.com/notebooks/data_table.ipynb>data table notebook</a>'\n",
       "            + ' to learn more about interactive tables.';\n",
       "          element.innerHTML = '';\n",
       "          dataTable['output_type'] = 'display_data';\n",
       "          await google.colab.output.renderOutput(dataTable, element);\n",
       "          const docLink = document.createElement('div');\n",
       "          docLink.innerHTML = docLinkHtml;\n",
       "          element.appendChild(docLink);\n",
       "        }\n",
       "      </script>\n",
       "    </div>\n",
       "  </div>\n",
       "  "
      ],
      "text/plain": [
       "      nombre  resistencia  ataque  defensa tipo_secundario  max_salud  \\\n",
       "0  Bulbasaur        128.0   118.0    111.0          Poison      113.0   \n",
       "1    Ivysaur        155.0   151.0    143.0          Poison      134.0   \n",
       "2   Venusaur        190.0   198.0    189.0          Poison      162.0   \n",
       "\n",
       "   tasa_captura  tasa_escape   peso  altura  ...  tipoPrimario__Ghost  \\\n",
       "0          0.20         0.10    6.9     0.7  ...                    0   \n",
       "1          0.10         0.07   13.0     1.0  ...                    0   \n",
       "2          0.05         0.05  100.0     2.0  ...                    0   \n",
       "\n",
       "   tipoPrimario__Grass  tipoPrimario__Ground  tipoPrimario__Ice  \\\n",
       "0                    1                     0                  0   \n",
       "1                    1                     0                  0   \n",
       "2                    1                     0                  0   \n",
       "\n",
       "   tipoPrimario__Normal  tipoPrimario__Poison  tipoPrimario__Psychic  \\\n",
       "0                     0                     0                      0   \n",
       "1                     0                     0                      0   \n",
       "2                     0                     0                      0   \n",
       "\n",
       "   tipoPrimario__Rock  tipoPrimario__Steel  tipoPrimario__Water  \n",
       "0                   0                    0                    0  \n",
       "1                   0                    0                    0  \n",
       "2                   0                    0                    0  \n",
       "\n",
       "[3 rows x 31 columns]"
      ]
     },
     "execution_count": 83,
     "metadata": {},
     "output_type": "execute_result"
    }
   ],
   "source": [
    "data.head(3)"
   ]
  },
  {
   "cell_type": "markdown",
   "id": "reasonable-torture",
   "metadata": {
    "id": "reasonable-torture"
   },
   "source": [
    "### División de datos de entrenamiento y testeo\n"
   ]
  },
  {
   "cell_type": "code",
   "execution_count": null,
   "id": "vTuvS31p0mn3",
   "metadata": {
    "colab": {
     "base_uri": "https://localhost:8080/"
    },
    "id": "vTuvS31p0mn3",
    "outputId": "5844ee57-1579-4035-9d7e-f1f471e5347a"
   },
   "outputs": [
    {
     "name": "stdout",
     "output_type": "stream",
     "text": [
      "<class 'pandas.core.frame.DataFrame'>\n",
      "Int64Index: 644 entries, 0 to 648\n",
      "Data columns (total 31 columns):\n",
      " #   Column                  Non-Null Count  Dtype  \n",
      "---  ------                  --------------  -----  \n",
      " 0   nombre                  644 non-null    object \n",
      " 1   resistencia             644 non-null    float64\n",
      " 2   ataque                  644 non-null    float64\n",
      " 3   defensa                 644 non-null    float64\n",
      " 4   tipo_secundario         644 non-null    object \n",
      " 5   max_salud               644 non-null    float64\n",
      " 6   tasa_captura            644 non-null    float64\n",
      " 7   tasa_escape             644 non-null    float64\n",
      " 8   peso                    644 non-null    float64\n",
      " 9   altura                  644 non-null    float64\n",
      " 10  Legendario              644 non-null    int64  \n",
      " 11  generacion              644 non-null    int64  \n",
      " 12  fuerza_combate          644 non-null    int64  \n",
      " 13  tipoPrimario__Bug       644 non-null    uint8  \n",
      " 14  tipoPrimario__Dark      644 non-null    uint8  \n",
      " 15  tipoPrimario__Dragon    644 non-null    uint8  \n",
      " 16  tipoPrimario__Electric  644 non-null    uint8  \n",
      " 17  tipoPrimario__Fairy     644 non-null    uint8  \n",
      " 18  tipoPrimario__Fighting  644 non-null    uint8  \n",
      " 19  tipoPrimario__Fire      644 non-null    uint8  \n",
      " 20  tipoPrimario__Flying    644 non-null    uint8  \n",
      " 21  tipoPrimario__Ghost     644 non-null    uint8  \n",
      " 22  tipoPrimario__Grass     644 non-null    uint8  \n",
      " 23  tipoPrimario__Ground    644 non-null    uint8  \n",
      " 24  tipoPrimario__Ice       644 non-null    uint8  \n",
      " 25  tipoPrimario__Normal    644 non-null    uint8  \n",
      " 26  tipoPrimario__Poison    644 non-null    uint8  \n",
      " 27  tipoPrimario__Psychic   644 non-null    uint8  \n",
      " 28  tipoPrimario__Rock      644 non-null    uint8  \n",
      " 29  tipoPrimario__Steel     644 non-null    uint8  \n",
      " 30  tipoPrimario__Water     644 non-null    uint8  \n",
      "dtypes: float64(8), int64(3), object(2), uint8(18)\n",
      "memory usage: 97.9+ KB\n"
     ]
    }
   ],
   "source": [
    "data.info()"
   ]
  },
  {
   "cell_type": "code",
   "execution_count": null,
   "id": "vjKOCQor0t4A",
   "metadata": {
    "colab": {
     "base_uri": "https://localhost:8080/",
     "height": 393
    },
    "id": "vjKOCQor0t4A",
    "outputId": "4d4a4c81-0cc4-45fa-f680-11589b8225cd"
   },
   "outputs": [
    {
     "data": {
      "text/html": [
       "\n",
       "  <div id=\"df-eb97a2d6-377c-4d4a-bbc8-5e1caf85e548\">\n",
       "    <div class=\"colab-df-container\">\n",
       "      <div>\n",
       "<style scoped>\n",
       "    .dataframe tbody tr th:only-of-type {\n",
       "        vertical-align: middle;\n",
       "    }\n",
       "\n",
       "    .dataframe tbody tr th {\n",
       "        vertical-align: top;\n",
       "    }\n",
       "\n",
       "    .dataframe thead th {\n",
       "        text-align: right;\n",
       "    }\n",
       "</style>\n",
       "<table border=\"1\" class=\"dataframe\">\n",
       "  <thead>\n",
       "    <tr style=\"text-align: right;\">\n",
       "      <th></th>\n",
       "      <th>resistencia</th>\n",
       "      <th>ataque</th>\n",
       "      <th>defensa</th>\n",
       "      <th>max_salud</th>\n",
       "      <th>tasa_captura</th>\n",
       "      <th>tasa_escape</th>\n",
       "      <th>peso</th>\n",
       "      <th>altura</th>\n",
       "      <th>Legendario</th>\n",
       "      <th>generacion</th>\n",
       "      <th>...</th>\n",
       "      <th>tipoPrimario__Ghost</th>\n",
       "      <th>tipoPrimario__Grass</th>\n",
       "      <th>tipoPrimario__Ground</th>\n",
       "      <th>tipoPrimario__Ice</th>\n",
       "      <th>tipoPrimario__Normal</th>\n",
       "      <th>tipoPrimario__Poison</th>\n",
       "      <th>tipoPrimario__Psychic</th>\n",
       "      <th>tipoPrimario__Rock</th>\n",
       "      <th>tipoPrimario__Steel</th>\n",
       "      <th>tipoPrimario__Water</th>\n",
       "    </tr>\n",
       "  </thead>\n",
       "  <tbody>\n",
       "    <tr>\n",
       "      <th>count</th>\n",
       "      <td>644.000000</td>\n",
       "      <td>644.000000</td>\n",
       "      <td>644.000000</td>\n",
       "      <td>644.000000</td>\n",
       "      <td>644.000000</td>\n",
       "      <td>644.000000</td>\n",
       "      <td>644.000000</td>\n",
       "      <td>644.000000</td>\n",
       "      <td>644.000000</td>\n",
       "      <td>644.000000</td>\n",
       "      <td>...</td>\n",
       "      <td>644.000000</td>\n",
       "      <td>644.000000</td>\n",
       "      <td>644.000000</td>\n",
       "      <td>644.000000</td>\n",
       "      <td>644.000000</td>\n",
       "      <td>644.000000</td>\n",
       "      <td>644.000000</td>\n",
       "      <td>644.000000</td>\n",
       "      <td>644.000000</td>\n",
       "      <td>644.000000</td>\n",
       "    </tr>\n",
       "    <tr>\n",
       "      <th>mean</th>\n",
       "      <td>168.700311</td>\n",
       "      <td>161.083851</td>\n",
       "      <td>140.324534</td>\n",
       "      <td>144.714286</td>\n",
       "      <td>0.243137</td>\n",
       "      <td>0.083789</td>\n",
       "      <td>57.301398</td>\n",
       "      <td>1.143121</td>\n",
       "      <td>0.059006</td>\n",
       "      <td>3.049689</td>\n",
       "      <td>...</td>\n",
       "      <td>0.029503</td>\n",
       "      <td>0.094720</td>\n",
       "      <td>0.046584</td>\n",
       "      <td>0.032609</td>\n",
       "      <td>0.138199</td>\n",
       "      <td>0.038820</td>\n",
       "      <td>0.066770</td>\n",
       "      <td>0.049689</td>\n",
       "      <td>0.027950</td>\n",
       "      <td>0.153727</td>\n",
       "    </tr>\n",
       "    <tr>\n",
       "      <th>std</th>\n",
       "      <td>45.648859</td>\n",
       "      <td>56.703088</td>\n",
       "      <td>49.092150</td>\n",
       "      <td>36.012643</td>\n",
       "      <td>0.173944</td>\n",
       "      <td>0.055595</td>\n",
       "      <td>90.638549</td>\n",
       "      <td>1.027061</td>\n",
       "      <td>0.235819</td>\n",
       "      <td>1.495670</td>\n",
       "      <td>...</td>\n",
       "      <td>0.169343</td>\n",
       "      <td>0.293056</td>\n",
       "      <td>0.210910</td>\n",
       "      <td>0.177748</td>\n",
       "      <td>0.345377</td>\n",
       "      <td>0.193316</td>\n",
       "      <td>0.249818</td>\n",
       "      <td>0.217471</td>\n",
       "      <td>0.164959</td>\n",
       "      <td>0.360967</td>\n",
       "    </tr>\n",
       "    <tr>\n",
       "      <th>min</th>\n",
       "      <td>1.000000</td>\n",
       "      <td>17.000000</td>\n",
       "      <td>32.000000</td>\n",
       "      <td>12.000000</td>\n",
       "      <td>0.000000</td>\n",
       "      <td>0.000000</td>\n",
       "      <td>0.100000</td>\n",
       "      <td>0.100000</td>\n",
       "      <td>0.000000</td>\n",
       "      <td>1.000000</td>\n",
       "      <td>...</td>\n",
       "      <td>0.000000</td>\n",
       "      <td>0.000000</td>\n",
       "      <td>0.000000</td>\n",
       "      <td>0.000000</td>\n",
       "      <td>0.000000</td>\n",
       "      <td>0.000000</td>\n",
       "      <td>0.000000</td>\n",
       "      <td>0.000000</td>\n",
       "      <td>0.000000</td>\n",
       "      <td>0.000000</td>\n",
       "    </tr>\n",
       "    <tr>\n",
       "      <th>25%</th>\n",
       "      <td>137.000000</td>\n",
       "      <td>118.000000</td>\n",
       "      <td>99.000000</td>\n",
       "      <td>120.000000</td>\n",
       "      <td>0.100000</td>\n",
       "      <td>0.060000</td>\n",
       "      <td>10.075000</td>\n",
       "      <td>0.600000</td>\n",
       "      <td>0.000000</td>\n",
       "      <td>2.000000</td>\n",
       "      <td>...</td>\n",
       "      <td>0.000000</td>\n",
       "      <td>0.000000</td>\n",
       "      <td>0.000000</td>\n",
       "      <td>0.000000</td>\n",
       "      <td>0.000000</td>\n",
       "      <td>0.000000</td>\n",
       "      <td>0.000000</td>\n",
       "      <td>0.000000</td>\n",
       "      <td>0.000000</td>\n",
       "      <td>0.000000</td>\n",
       "    </tr>\n",
       "    <tr>\n",
       "      <th>50%</th>\n",
       "      <td>163.000000</td>\n",
       "      <td>159.000000</td>\n",
       "      <td>136.500000</td>\n",
       "      <td>140.000000</td>\n",
       "      <td>0.200000</td>\n",
       "      <td>0.070000</td>\n",
       "      <td>29.000000</td>\n",
       "      <td>1.000000</td>\n",
       "      <td>0.000000</td>\n",
       "      <td>3.000000</td>\n",
       "      <td>...</td>\n",
       "      <td>0.000000</td>\n",
       "      <td>0.000000</td>\n",
       "      <td>0.000000</td>\n",
       "      <td>0.000000</td>\n",
       "      <td>0.000000</td>\n",
       "      <td>0.000000</td>\n",
       "      <td>0.000000</td>\n",
       "      <td>0.000000</td>\n",
       "      <td>0.000000</td>\n",
       "      <td>0.000000</td>\n",
       "    </tr>\n",
       "    <tr>\n",
       "      <th>75%</th>\n",
       "      <td>190.000000</td>\n",
       "      <td>204.250000</td>\n",
       "      <td>174.000000</td>\n",
       "      <td>162.000000</td>\n",
       "      <td>0.300000</td>\n",
       "      <td>0.100000</td>\n",
       "      <td>61.000000</td>\n",
       "      <td>1.400000</td>\n",
       "      <td>0.000000</td>\n",
       "      <td>4.000000</td>\n",
       "      <td>...</td>\n",
       "      <td>0.000000</td>\n",
       "      <td>0.000000</td>\n",
       "      <td>0.000000</td>\n",
       "      <td>0.000000</td>\n",
       "      <td>0.000000</td>\n",
       "      <td>0.000000</td>\n",
       "      <td>0.000000</td>\n",
       "      <td>0.000000</td>\n",
       "      <td>0.000000</td>\n",
       "      <td>0.000000</td>\n",
       "    </tr>\n",
       "    <tr>\n",
       "      <th>max</th>\n",
       "      <td>496.000000</td>\n",
       "      <td>345.000000</td>\n",
       "      <td>396.000000</td>\n",
       "      <td>403.000000</td>\n",
       "      <td>1.000000</td>\n",
       "      <td>0.990000</td>\n",
       "      <td>950.000000</td>\n",
       "      <td>14.500000</td>\n",
       "      <td>1.000000</td>\n",
       "      <td>5.000000</td>\n",
       "      <td>...</td>\n",
       "      <td>1.000000</td>\n",
       "      <td>1.000000</td>\n",
       "      <td>1.000000</td>\n",
       "      <td>1.000000</td>\n",
       "      <td>1.000000</td>\n",
       "      <td>1.000000</td>\n",
       "      <td>1.000000</td>\n",
       "      <td>1.000000</td>\n",
       "      <td>1.000000</td>\n",
       "      <td>1.000000</td>\n",
       "    </tr>\n",
       "  </tbody>\n",
       "</table>\n",
       "<p>8 rows × 29 columns</p>\n",
       "</div>\n",
       "      <button class=\"colab-df-convert\" onclick=\"convertToInteractive('df-eb97a2d6-377c-4d4a-bbc8-5e1caf85e548')\"\n",
       "              title=\"Convert this dataframe to an interactive table.\"\n",
       "              style=\"display:none;\">\n",
       "        \n",
       "  <svg xmlns=\"http://www.w3.org/2000/svg\" height=\"24px\"viewBox=\"0 0 24 24\"\n",
       "       width=\"24px\">\n",
       "    <path d=\"M0 0h24v24H0V0z\" fill=\"none\"/>\n",
       "    <path d=\"M18.56 5.44l.94 2.06.94-2.06 2.06-.94-2.06-.94-.94-2.06-.94 2.06-2.06.94zm-11 1L8.5 8.5l.94-2.06 2.06-.94-2.06-.94L8.5 2.5l-.94 2.06-2.06.94zm10 10l.94 2.06.94-2.06 2.06-.94-2.06-.94-.94-2.06-.94 2.06-2.06.94z\"/><path d=\"M17.41 7.96l-1.37-1.37c-.4-.4-.92-.59-1.43-.59-.52 0-1.04.2-1.43.59L10.3 9.45l-7.72 7.72c-.78.78-.78 2.05 0 2.83L4 21.41c.39.39.9.59 1.41.59.51 0 1.02-.2 1.41-.59l7.78-7.78 2.81-2.81c.8-.78.8-2.07 0-2.86zM5.41 20L4 18.59l7.72-7.72 1.47 1.35L5.41 20z\"/>\n",
       "  </svg>\n",
       "      </button>\n",
       "      \n",
       "  <style>\n",
       "    .colab-df-container {\n",
       "      display:flex;\n",
       "      flex-wrap:wrap;\n",
       "      gap: 12px;\n",
       "    }\n",
       "\n",
       "    .colab-df-convert {\n",
       "      background-color: #E8F0FE;\n",
       "      border: none;\n",
       "      border-radius: 50%;\n",
       "      cursor: pointer;\n",
       "      display: none;\n",
       "      fill: #1967D2;\n",
       "      height: 32px;\n",
       "      padding: 0 0 0 0;\n",
       "      width: 32px;\n",
       "    }\n",
       "\n",
       "    .colab-df-convert:hover {\n",
       "      background-color: #E2EBFA;\n",
       "      box-shadow: 0px 1px 2px rgba(60, 64, 67, 0.3), 0px 1px 3px 1px rgba(60, 64, 67, 0.15);\n",
       "      fill: #174EA6;\n",
       "    }\n",
       "\n",
       "    [theme=dark] .colab-df-convert {\n",
       "      background-color: #3B4455;\n",
       "      fill: #D2E3FC;\n",
       "    }\n",
       "\n",
       "    [theme=dark] .colab-df-convert:hover {\n",
       "      background-color: #434B5C;\n",
       "      box-shadow: 0px 1px 3px 1px rgba(0, 0, 0, 0.15);\n",
       "      filter: drop-shadow(0px 1px 2px rgba(0, 0, 0, 0.3));\n",
       "      fill: #FFFFFF;\n",
       "    }\n",
       "  </style>\n",
       "\n",
       "      <script>\n",
       "        const buttonEl =\n",
       "          document.querySelector('#df-eb97a2d6-377c-4d4a-bbc8-5e1caf85e548 button.colab-df-convert');\n",
       "        buttonEl.style.display =\n",
       "          google.colab.kernel.accessAllowed ? 'block' : 'none';\n",
       "\n",
       "        async function convertToInteractive(key) {\n",
       "          const element = document.querySelector('#df-eb97a2d6-377c-4d4a-bbc8-5e1caf85e548');\n",
       "          const dataTable =\n",
       "            await google.colab.kernel.invokeFunction('convertToInteractive',\n",
       "                                                     [key], {});\n",
       "          if (!dataTable) return;\n",
       "\n",
       "          const docLinkHtml = 'Like what you see? Visit the ' +\n",
       "            '<a target=\"_blank\" href=https://colab.research.google.com/notebooks/data_table.ipynb>data table notebook</a>'\n",
       "            + ' to learn more about interactive tables.';\n",
       "          element.innerHTML = '';\n",
       "          dataTable['output_type'] = 'display_data';\n",
       "          await google.colab.output.renderOutput(dataTable, element);\n",
       "          const docLink = document.createElement('div');\n",
       "          docLink.innerHTML = docLinkHtml;\n",
       "          element.appendChild(docLink);\n",
       "        }\n",
       "      </script>\n",
       "    </div>\n",
       "  </div>\n",
       "  "
      ],
      "text/plain": [
       "       resistencia      ataque     defensa   max_salud  tasa_captura  \\\n",
       "count   644.000000  644.000000  644.000000  644.000000    644.000000   \n",
       "mean    168.700311  161.083851  140.324534  144.714286      0.243137   \n",
       "std      45.648859   56.703088   49.092150   36.012643      0.173944   \n",
       "min       1.000000   17.000000   32.000000   12.000000      0.000000   \n",
       "25%     137.000000  118.000000   99.000000  120.000000      0.100000   \n",
       "50%     163.000000  159.000000  136.500000  140.000000      0.200000   \n",
       "75%     190.000000  204.250000  174.000000  162.000000      0.300000   \n",
       "max     496.000000  345.000000  396.000000  403.000000      1.000000   \n",
       "\n",
       "       tasa_escape        peso      altura  Legendario  generacion  ...  \\\n",
       "count   644.000000  644.000000  644.000000  644.000000  644.000000  ...   \n",
       "mean      0.083789   57.301398    1.143121    0.059006    3.049689  ...   \n",
       "std       0.055595   90.638549    1.027061    0.235819    1.495670  ...   \n",
       "min       0.000000    0.100000    0.100000    0.000000    1.000000  ...   \n",
       "25%       0.060000   10.075000    0.600000    0.000000    2.000000  ...   \n",
       "50%       0.070000   29.000000    1.000000    0.000000    3.000000  ...   \n",
       "75%       0.100000   61.000000    1.400000    0.000000    4.000000  ...   \n",
       "max       0.990000  950.000000   14.500000    1.000000    5.000000  ...   \n",
       "\n",
       "       tipoPrimario__Ghost  tipoPrimario__Grass  tipoPrimario__Ground  \\\n",
       "count           644.000000           644.000000            644.000000   \n",
       "mean              0.029503             0.094720              0.046584   \n",
       "std               0.169343             0.293056              0.210910   \n",
       "min               0.000000             0.000000              0.000000   \n",
       "25%               0.000000             0.000000              0.000000   \n",
       "50%               0.000000             0.000000              0.000000   \n",
       "75%               0.000000             0.000000              0.000000   \n",
       "max               1.000000             1.000000              1.000000   \n",
       "\n",
       "       tipoPrimario__Ice  tipoPrimario__Normal  tipoPrimario__Poison  \\\n",
       "count         644.000000            644.000000            644.000000   \n",
       "mean            0.032609              0.138199              0.038820   \n",
       "std             0.177748              0.345377              0.193316   \n",
       "min             0.000000              0.000000              0.000000   \n",
       "25%             0.000000              0.000000              0.000000   \n",
       "50%             0.000000              0.000000              0.000000   \n",
       "75%             0.000000              0.000000              0.000000   \n",
       "max             1.000000              1.000000              1.000000   \n",
       "\n",
       "       tipoPrimario__Psychic  tipoPrimario__Rock  tipoPrimario__Steel  \\\n",
       "count             644.000000          644.000000           644.000000   \n",
       "mean                0.066770            0.049689             0.027950   \n",
       "std                 0.249818            0.217471             0.164959   \n",
       "min                 0.000000            0.000000             0.000000   \n",
       "25%                 0.000000            0.000000             0.000000   \n",
       "50%                 0.000000            0.000000             0.000000   \n",
       "75%                 0.000000            0.000000             0.000000   \n",
       "max                 1.000000            1.000000             1.000000   \n",
       "\n",
       "       tipoPrimario__Water  \n",
       "count           644.000000  \n",
       "mean              0.153727  \n",
       "std               0.360967  \n",
       "min               0.000000  \n",
       "25%               0.000000  \n",
       "50%               0.000000  \n",
       "75%               0.000000  \n",
       "max               1.000000  \n",
       "\n",
       "[8 rows x 29 columns]"
      ]
     },
     "execution_count": 85,
     "metadata": {},
     "output_type": "execute_result"
    }
   ],
   "source": [
    "data.describe()"
   ]
  },
  {
   "cell_type": "code",
   "execution_count": null,
   "id": "U4yPQldCFhoL",
   "metadata": {
    "colab": {
     "base_uri": "https://localhost:8080/",
     "height": 620
    },
    "id": "U4yPQldCFhoL",
    "outputId": "a33e853b-0079-4029-ed75-b1a3d497b263"
   },
   "outputs": [
    {
     "data": {
      "text/plain": [
       "<matplotlib.axes._subplots.AxesSubplot at 0x7f5704660710>"
      ]
     },
     "execution_count": 86,
     "metadata": {},
     "output_type": "execute_result"
    },
    {
     "data": {
      "image/png": "[encoded data removed]",
      "text/plain": [
       "<Figure size 1080x576 with 2 Axes>"
      ]
     },
     "metadata": {},
     "output_type": "display_data"
    }
   ],
   "source": [
    "sns.set(rc = {'figure.figsize':(15,8)})\n",
    "sns.heatmap(data.corr())"
   ]
  },
  {
   "cell_type": "code",
   "execution_count": null,
   "id": "JwmE6BUw4Wv0",
   "metadata": {
    "colab": {
     "base_uri": "https://localhost:8080/",
     "height": 520
    },
    "id": "JwmE6BUw4Wv0",
    "outputId": "b593fc01-6b6c-4381-bd5f-8472fdc2f948"
   },
   "outputs": [
    {
     "data": {
      "text/plain": [
       "<matplotlib.axes._subplots.AxesSubplot at 0x7f5704842490>"
      ]
     },
     "execution_count": 87,
     "metadata": {},
     "output_type": "execute_result"
    },
    {
     "data": {
      "image/png": "[encoded data removed]",
      "text/plain": [
       "<Figure size 1080x576 with 1 Axes>"
      ]
     },
     "metadata": {},
     "output_type": "display_data"
    }
   ],
   "source": [
    "sns.scatterplot(data=data, x='fuerza_combate', y='ataque')"
   ]
  },
  {
   "cell_type": "code",
   "execution_count": null,
   "id": "special-lottery",
   "metadata": {
    "id": "special-lottery"
   },
   "outputs": [],
   "source": [
    "# Definir X e y siendo X las variables predictoras e y la variable a predecir\n",
    "\n",
    "#X= data['ataque']\n",
    "X = data[\"fuerza_combate\"]\n",
    "y = data[\"ataque\"]"
   ]
  },
  {
   "cell_type": "code",
   "execution_count": null,
   "id": "8ix64J736Bfx",
   "metadata": {
    "colab": {
     "base_uri": "https://localhost:8080/"
    },
    "id": "8ix64J736Bfx",
    "outputId": "eebca64a-88f4-47a7-db69-02dfc3ef33bb"
   },
   "outputs": [
    {
     "name": "stdout",
     "output_type": "stream",
     "text": [
      "(644,)\n"
     ]
    },
    {
     "data": {
      "text/plain": [
       "0    1115\n",
       "1    1699\n",
       "2    2720\n",
       "Name: fuerza_combate, dtype: int64"
      ]
     },
     "execution_count": 89,
     "metadata": {},
     "output_type": "execute_result"
    }
   ],
   "source": [
    "print(X.shape)\n",
    "X.head(3)"
   ]
  },
  {
   "cell_type": "code",
   "execution_count": null,
   "id": "ET9CHqux6PTr",
   "metadata": {
    "colab": {
     "base_uri": "https://localhost:8080/"
    },
    "id": "ET9CHqux6PTr",
    "outputId": "751ce2b9-1e68-43f4-8a50-d5d9cdda0900"
   },
   "outputs": [
    {
     "name": "stdout",
     "output_type": "stream",
     "text": [
      "(644,)\n"
     ]
    },
    {
     "data": {
      "text/plain": [
       "0    118.0\n",
       "1    151.0\n",
       "2    198.0\n",
       "Name: ataque, dtype: float64"
      ]
     },
     "execution_count": 90,
     "metadata": {},
     "output_type": "execute_result"
    }
   ],
   "source": [
    "print(y.shape)\n",
    "y.head(3)"
   ]
  },
  {
   "cell_type": "code",
   "execution_count": null,
   "id": "north-index",
   "metadata": {
    "id": "north-index"
   },
   "outputs": [],
   "source": [
    "# importamos train_test_split de la libreria scikit-learn\n",
    "\n",
    "from sklearn.model_selection import train_test_split "
   ]
  },
  {
   "cell_type": "code",
   "execution_count": null,
   "id": "sapphire-engagement",
   "metadata": {
    "id": "sapphire-engagement"
   },
   "outputs": [],
   "source": [
    "# Definimos X de entrenamiento y de testeo e y de entrenamiento y testeo\n",
    "\n",
    "\n",
    "x_train, x_test, y_train, y_test = train_test_split(X,y, random_state=25)"
   ]
  },
  {
   "cell_type": "code",
   "execution_count": null,
   "id": "prescribed-schema",
   "metadata": {
    "colab": {
     "base_uri": "https://localhost:8080/"
    },
    "id": "prescribed-schema",
    "outputId": "fb0a02f9-530f-4077-d5c0-09371498414f"
   },
   "outputs": [
    {
     "name": "stdout",
     "output_type": "stream",
     "text": [
      "(483,)\n",
      "(483,)\n",
      "(161,)\n",
      "(161,)\n"
     ]
    }
   ],
   "source": [
    "# Revisamos que esté correctamente realizada la operación\n",
    "print(x_train.shape)\n",
    "print(y_train.shape)\n",
    "print(x_test.shape)\n",
    "print(y_test.shape)"
   ]
  },
  {
   "cell_type": "markdown",
   "id": "enclosed-architect",
   "metadata": {
    "id": "enclosed-architect"
   },
   "source": [
    "### Entrenamiento del modelo\n",
    "\n",
    "\n",
    "Completar los espacios _______ con el código que corresponda"
   ]
  },
  {
   "cell_type": "code",
   "execution_count": null,
   "id": "bibliographic-humanity",
   "metadata": {
    "id": "bibliographic-humanity"
   },
   "outputs": [],
   "source": [
    "# Importamos el modelo que utilizaremos. Regresión lineal\n",
    "\n",
    "from sklearn.linear_model import LinearRegression"
   ]
  },
  {
   "cell_type": "code",
   "execution_count": null,
   "id": "varied-alberta",
   "metadata": {
    "id": "varied-alberta"
   },
   "outputs": [],
   "source": [
    "# Definimos un objeto con el modelo importado, en este caso los hiperparametros son por default por lo que el parentesis está vacio\n",
    "modelo_rl = LinearRegression()\n"
   ]
  },
  {
   "cell_type": "code",
   "execution_count": null,
   "id": "WWtjHysCzX7T",
   "metadata": {
    "id": "WWtjHysCzX7T"
   },
   "outputs": [],
   "source": [
    "import numpy as np\n",
    "\n",
    "X_train =x_train.to_numpy() #np.array(x_train)\n",
    "X_train = np.matrix(X_train.reshape(len(X_train),1))\n",
    "\n",
    "\n",
    "X_test =x_test.to_numpy()\n",
    "X_test = np.matrix(X_test.reshape(len(X_test),1))"
   ]
  },
  {
   "cell_type": "code",
   "execution_count": null,
   "id": "MQIWt27O820R",
   "metadata": {
    "colab": {
     "base_uri": "https://localhost:8080/"
    },
    "id": "MQIWt27O820R",
    "outputId": "9e84c519-3904-4303-f99d-bb9a3979c550"
   },
   "outputs": [
    {
     "name": "stderr",
     "output_type": "stream",
     "text": [
      "/usr/local/lib/python3.7/dist-packages/sklearn/utils/validation.py:598: FutureWarning: np.matrix usage is deprecated in 1.0 and will raise a TypeError in 1.2. Please convert to a numpy array with np.asarray. For more information see: https://numpy.org/doc/stable/reference/generated/numpy.matrix.html\n",
      "  FutureWarning,\n"
     ]
    },
    {
     "data": {
      "text/plain": [
       "LinearRegression()"
      ]
     },
     "execution_count": 97,
     "metadata": {},
     "output_type": "execute_result"
    }
   ],
   "source": [
    "modelo_rl.fit(X_train, y_train)"
   ]
  },
  {
   "cell_type": "code",
   "execution_count": null,
   "id": "7W4rpnpl85dZ",
   "metadata": {
    "colab": {
     "base_uri": "https://localhost:8080/"
    },
    "id": "7W4rpnpl85dZ",
    "outputId": "045f9774-1d6a-478f-addd-5c3d0e77028c"
   },
   "outputs": [
    {
     "data": {
      "text/plain": [
       "array([0.05767271])"
      ]
     },
     "execution_count": 98,
     "metadata": {},
     "output_type": "execute_result"
    }
   ],
   "source": [
    "modelo_rl.coef_"
   ]
  },
  {
   "cell_type": "code",
   "execution_count": null,
   "id": "LodXavTk87-K",
   "metadata": {
    "colab": {
     "base_uri": "https://localhost:8080/"
    },
    "id": "LodXavTk87-K",
    "outputId": "526a359b-c62d-404e-8a18-bde757a6173d"
   },
   "outputs": [
    {
     "data": {
      "text/plain": [
       "50.18064755300715"
      ]
     },
     "execution_count": 99,
     "metadata": {},
     "output_type": "execute_result"
    }
   ],
   "source": [
    "modelo_rl.intercept_"
   ]
  },
  {
   "cell_type": "markdown",
   "id": "meaning-reynolds",
   "metadata": {
    "id": "meaning-reynolds"
   },
   "source": [
    "### Testeo del modelo\n",
    "\n",
    "\n",
    "Completar los espacios _______ con el código que corresponda"
   ]
  },
  {
   "cell_type": "code",
   "execution_count": null,
   "id": "ideal-vanilla",
   "metadata": {
    "colab": {
     "base_uri": "https://localhost:8080/"
    },
    "id": "ideal-vanilla",
    "outputId": "91f74aed-42ba-4587-e50c-41431f151792"
   },
   "outputs": [
    {
     "name": "stderr",
     "output_type": "stream",
     "text": [
      "/usr/local/lib/python3.7/dist-packages/sklearn/utils/validation.py:598: FutureWarning: np.matrix usage is deprecated in 1.0 and will raise a TypeError in 1.2. Please convert to a numpy array with np.asarray. For more information see: https://numpy.org/doc/stable/reference/generated/numpy.matrix.html\n",
      "  FutureWarning,\n"
     ]
    }
   ],
   "source": [
    "# Probar nuestro modelo con predict y los datos de test\n",
    "y_pred = modelo_rl.predict(X_test)\n"
   ]
  },
  {
   "cell_type": "code",
   "execution_count": null,
   "id": "compact-marking",
   "metadata": {
    "id": "compact-marking"
   },
   "outputs": [],
   "source": [
    "# Importar la métrica que se utiliza para medir la performance modelo de regresión lineal: R2\n",
    "\n",
    "from sklearn.metrics import r2_score\n"
   ]
  },
  {
   "cell_type": "code",
   "execution_count": null,
   "id": "weird-forest",
   "metadata": {
    "colab": {
     "base_uri": "https://localhost:8080/"
    },
    "id": "weird-forest",
    "outputId": "66b9e572-a0a4-4d66-ad84-8af2ca21739b"
   },
   "outputs": [
    {
     "data": {
      "text/plain": [
       "0.8594450349977258"
      ]
     },
     "execution_count": 102,
     "metadata": {},
     "output_type": "execute_result"
    }
   ],
   "source": [
    "# Utilizar R2 para medir la performance del modelo\n",
    "\n",
    "r2 = r2_score(y_test,y_pred)\n",
    "r2\n"
   ]
  },
  {
   "cell_type": "code",
   "execution_count": null,
   "id": "_13CQa4M9O-K",
   "metadata": {
    "colab": {
     "base_uri": "https://localhost:8080/",
     "height": 594
    },
    "id": "_13CQa4M9O-K",
    "outputId": "46dc1856-4e4f-4408-db7a-630f3827cb1f"
   },
   "outputs": [
    {
     "data": {
      "image/png": "[encoded data removed]",
      "text/plain": [
       "<Figure size 720x720 with 1 Axes>"
      ]
     },
     "metadata": {},
     "output_type": "display_data"
    }
   ],
   "source": [
    "plt.figure(figsize = (10,10))\n",
    "plt.plot(x_test, y_pred, color = 'b', label = 'Regresión lineal')\n",
    "plt.scatter(x_test, y_test, color = 'g', label = 'Datos de testeo')\n",
    "plt.legend()\n",
    "plt.show()"
   ]
  },
  {
   "cell_type": "code",
   "execution_count": null,
   "id": "OVWUGiR69SMr",
   "metadata": {
    "colab": {
     "base_uri": "https://localhost:8080/",
     "height": 485
    },
    "id": "OVWUGiR69SMr",
    "outputId": "c8ba4459-484b-4e6f-b81f-139064a25e98"
   },
   "outputs": [
    {
     "data": {
      "image/png": "[encoded data removed]",
      "text/plain": [
       "<Figure size 1080x576 with 1 Axes>"
      ]
     },
     "metadata": {},
     "output_type": "display_data"
    }
   ],
   "source": [
    "plt.plot(x_test, y_pred, color = 'b', label = 'Regresión lineal')\n",
    "plt.scatter(X, y, color = 'g', label = 'Datos totales')\n",
    "plt.legend()\n",
    "plt.show()"
   ]
  },
  {
   "cell_type": "code",
   "execution_count": null,
   "id": "cu6gY6qEEha-",
   "metadata": {
    "id": "cu6gY6qEEha-"
   },
   "outputs": [],
   "source": []
  }
 ],
 "metadata": {
  "colab": {
   "collapsed_sections": [
    "executed-gothic"
   ],
   "name": "Matías Birocco/PROYECTO MODULO 2.ipynb",
   "provenance": []
  },
  "kernelspec": {
   "display_name": "Python 3 (ipykernel)",
   "language": "python",
   "name": "python3"
  },
  "language_info": {
   "codemirror_mode": {
    "name": "ipython",
    "version": 3
   },
   "file_extension": ".py",
   "mimetype": "text/x-python",
   "name": "python",
   "nbconvert_exporter": "python",
   "pygments_lexer": "ipython3",
   "version": "3.9.7"
  },
  "toc": {
   "base_numbering": 1,
   "nav_menu": {},
   "number_sections": true,
   "sideBar": true,
   "skip_h1_title": false,
   "title_cell": "Table of Contents",
   "title_sidebar": "Contents",
   "toc_cell": false,
   "toc_position": {},
   "toc_section_display": true,
   "toc_window_display": false
  }
 },
 "nbformat": 4,
 "nbformat_minor": 5
}
